{
  "nbformat": 4,
  "nbformat_minor": 0,
  "metadata": {
    "colab": {
      "provenance": [],
      "authorship_tag": "ABX9TyNccmosw0QxvM5NociZq0Pb",
      "include_colab_link": true
    },
    "kernelspec": {
      "name": "python3",
      "display_name": "Python 3"
    },
    "language_info": {
      "name": "python"
    }
  },
  "cells": [
    {
      "cell_type": "markdown",
      "metadata": {
        "id": "view-in-github",
        "colab_type": "text"
      },
      "source": [
        "<a href=\"https://colab.research.google.com/github/puritym8/Python-Data-Analysis/blob/main/numpydailypractice3.ipynb\" target=\"_parent\"><img src=\"https://colab.research.google.com/assets/colab-badge.svg\" alt=\"Open In Colab\"/></a>"
      ]
    },
    {
      "cell_type": "code",
      "source": [
        "import numpy as np"
      ],
      "metadata": {
        "id": "FgQCVv1-CNUb"
      },
      "execution_count": 1,
      "outputs": []
    },
    {
      "cell_type": "code",
      "source": [
        "31. How to ignore all numpy warnings (not recommended)?"
      ],
      "metadata": {
        "id": "PcOGKejNCNAj"
      },
      "execution_count": null,
      "outputs": []
    },
    {
      "cell_type": "code",
      "source": [
        "32. Is the following expressions true? (★☆☆)\n"
      ],
      "metadata": {
        "id": "9LHLc1E8E73-"
      },
      "execution_count": null,
      "outputs": []
    },
    {
      "cell_type": "code",
      "source": [
        "np.sqrt(-1) == np.emath.sqrt(-1)"
      ],
      "metadata": {
        "colab": {
          "base_uri": "https://localhost:8080/"
        },
        "id": "Odab1T1BFF68",
        "outputId": "85ee885a-e14f-4d15-a4b9-7841d6888956"
      },
      "execution_count": 3,
      "outputs": [
        {
          "output_type": "stream",
          "name": "stderr",
          "text": [
            "<ipython-input-3-16339fbc685e>:1: RuntimeWarning: invalid value encountered in sqrt\n",
            "  np.sqrt(-1) == np.emath.sqrt(-1)\n"
          ]
        },
        {
          "output_type": "execute_result",
          "data": {
            "text/plain": [
              "False"
            ]
          },
          "metadata": {},
          "execution_count": 3
        }
      ]
    },
    {
      "cell_type": "code",
      "source": [
        "33. How to get the dates of yesterday, today and tomorrow? (★☆☆"
      ],
      "metadata": {
        "id": "8X28ZVj-FMZW"
      },
      "execution_count": null,
      "outputs": []
    },
    {
      "cell_type": "code",
      "source": [
        "# Calculating yesterday's date\n",
        "yesterday = np.datetime64('today', 'D') - np.timedelta64(1, 'D')\n",
        "print(\"Yesterday: \", yesterday)\n",
        "\n",
        "# Calculating today's date\n",
        "today = np.datetime64('today', 'D')\n",
        "print(\"Today: \", today)\n",
        "\n",
        "# Calculating tomorrow's date using NumPy's datetime64 and timedelta64\n",
        "tomorrow = np.datetime64('today', 'D') + np.timedelta64(1, 'D')\n",
        "print(\"Tomorrow: \", tomorrow)"
      ],
      "metadata": {
        "colab": {
          "base_uri": "https://localhost:8080/"
        },
        "id": "FqOCNxgfFOhL",
        "outputId": "f8cd47f0-a95b-497e-cc36-13964910d865"
      },
      "execution_count": 6,
      "outputs": [
        {
          "output_type": "stream",
          "name": "stdout",
          "text": [
            "Yesterday:  2024-03-24\n",
            "Today:  2024-03-25\n",
            "Tomorrow:  2024-03-26\n"
          ]
        }
      ]
    },
    {
      "cell_type": "code",
      "source": [
        "34. How to get all the dates corresponding to the month of July 2016? (★★☆)"
      ],
      "metadata": {
        "id": "1kkLOX39F9L1"
      },
      "execution_count": null,
      "outputs": []
    },
    {
      "cell_type": "code",
      "source": [
        "Julydates = np.arange('2016-07', '2016-08', dtype='datetime64[D]')\n",
        "print(Julydates)"
      ],
      "metadata": {
        "colab": {
          "base_uri": "https://localhost:8080/"
        },
        "id": "bg8U5mCFGpst",
        "outputId": "95ccfc9c-a0cc-499c-8e08-ff8be5ce4414"
      },
      "execution_count": 8,
      "outputs": [
        {
          "output_type": "stream",
          "name": "stdout",
          "text": [
            "['2016-07-01' '2016-07-02' '2016-07-03' '2016-07-04' '2016-07-05'\n",
            " '2016-07-06' '2016-07-07' '2016-07-08' '2016-07-09' '2016-07-10'\n",
            " '2016-07-11' '2016-07-12' '2016-07-13' '2016-07-14' '2016-07-15'\n",
            " '2016-07-16' '2016-07-17' '2016-07-18' '2016-07-19' '2016-07-20'\n",
            " '2016-07-21' '2016-07-22' '2016-07-23' '2016-07-24' '2016-07-25'\n",
            " '2016-07-26' '2016-07-27' '2016-07-28' '2016-07-29' '2016-07-30'\n",
            " '2016-07-31']\n"
          ]
        }
      ]
    },
    {
      "cell_type": "code",
      "source": [
        "35. How to compute ((A+B)*(-A/2)) in place (without copy)? (★★☆)"
      ],
      "metadata": {
        "id": "RIbEkBcZG3OA"
      },
      "execution_count": null,
      "outputs": []
    },
    {
      "cell_type": "code",
      "source": [
        "A = np.ones(3)*1\n",
        "B = np.ones(3)*2\n",
        "np.add(A,B,out=B)\n",
        "np.divide(A,2,out=A)\n",
        "np.negative(A,out=A)\n",
        "np.multiply(A,B,out=A)"
      ],
      "metadata": {
        "colab": {
          "base_uri": "https://localhost:8080/"
        },
        "id": "Mizoz5VmHgqM",
        "outputId": "c16aaed8-0264-415c-9ce8-a6194617aa7b"
      },
      "execution_count": 9,
      "outputs": [
        {
          "output_type": "execute_result",
          "data": {
            "text/plain": [
              "array([-1.5, -1.5, -1.5])"
            ]
          },
          "metadata": {},
          "execution_count": 9
        }
      ]
    },
    {
      "cell_type": "code",
      "source": [
        "36. Extract the integer part of a random array of positive numbers using 4 different methods (★★☆)\n",
        "\n",
        ""
      ],
      "metadata": {
        "id": "Z_5kZ4j8HqAr"
      },
      "execution_count": null,
      "outputs": []
    },
    {
      "cell_type": "code",
      "source": [
        "Z = np.random.uniform(0,10,10)\n",
        "\n",
        "print(Z - Z%1)\n",
        "print(Z // 1)\n",
        "print(np.floor(Z))\n",
        "print(Z.astype(int))\n",
        "print(np.trunc(Z))"
      ],
      "metadata": {
        "colab": {
          "base_uri": "https://localhost:8080/"
        },
        "id": "lp9obkz5ICm-",
        "outputId": "92071dd3-dd76-4c1c-cbb2-75d95cef4459"
      },
      "execution_count": 10,
      "outputs": [
        {
          "output_type": "stream",
          "name": "stdout",
          "text": [
            "[6. 3. 9. 8. 9. 7. 7. 0. 8. 4.]\n",
            "[6. 3. 9. 8. 9. 7. 7. 0. 8. 4.]\n",
            "[6. 3. 9. 8. 9. 7. 7. 0. 8. 4.]\n",
            "[6 3 9 8 9 7 7 0 8 4]\n",
            "[6. 3. 9. 8. 9. 7. 7. 0. 8. 4.]\n"
          ]
        }
      ]
    },
    {
      "cell_type": "code",
      "source": [
        "37. Create a 5x5 matrix with row values ranging from 0 to 4 (★★☆)\n",
        ""
      ],
      "metadata": {
        "id": "1Z47VWQvIIgW"
      },
      "execution_count": null,
      "outputs": []
    },
    {
      "cell_type": "code",
      "source": [
        "Arr = np.zeros((5,5))\n",
        "Arr += np.arange(5)\n",
        "print(Arr)\n",
        "\n",
        "# without broadcasting\n",
        "ArithmeticError= np.tile(np.arange(0, 5), (5,1))\n",
        "print(Arr)"
      ],
      "metadata": {
        "colab": {
          "base_uri": "https://localhost:8080/"
        },
        "id": "pO4yUFLaIJ7-",
        "outputId": "4741a782-ca18-42a0-abf0-2cfad26ef66f"
      },
      "execution_count": 11,
      "outputs": [
        {
          "output_type": "stream",
          "name": "stdout",
          "text": [
            "[[0. 1. 2. 3. 4.]\n",
            " [0. 1. 2. 3. 4.]\n",
            " [0. 1. 2. 3. 4.]\n",
            " [0. 1. 2. 3. 4.]\n",
            " [0. 1. 2. 3. 4.]]\n",
            "[[0. 1. 2. 3. 4.]\n",
            " [0. 1. 2. 3. 4.]\n",
            " [0. 1. 2. 3. 4.]\n",
            " [0. 1. 2. 3. 4.]\n",
            " [0. 1. 2. 3. 4.]]\n"
          ]
        }
      ]
    },
    {
      "cell_type": "code",
      "source": [
        "38. Consider a generator function that generates 10 integers and use it to build an array (★☆☆)"
      ],
      "metadata": {
        "id": "yO9a-Ef3IhIE"
      },
      "execution_count": null,
      "outputs": []
    },
    {
      "cell_type": "code",
      "source": [
        "def generate():\n",
        "   for n in range(15):\n",
        "       yield n\n",
        "\n",
        "# Creating a NumPy array 'nums' using 'fromiter' by converting the generator into a NumPy array of type 'float'\n",
        "nums = np.fromiter(generate(), dtype=float, count=-1)\n",
        "\n",
        "# Displaying the newly created array 'nums'\n",
        "print(\"New array:\")\n",
        "print(nums)"
      ],
      "metadata": {
        "colab": {
          "base_uri": "https://localhost:8080/"
        },
        "id": "6PY-rp6xIiL3",
        "outputId": "f52323d8-f175-4427-8c40-f0fb561f8561"
      },
      "execution_count": 12,
      "outputs": [
        {
          "output_type": "stream",
          "name": "stdout",
          "text": [
            "New array:\n",
            "[ 0.  1.  2.  3.  4.  5.  6.  7.  8.  9. 10. 11. 12. 13. 14.]\n"
          ]
        }
      ]
    },
    {
      "cell_type": "code",
      "source": [
        "39. Create a vector of size 10 with values ranging from 0 to 1, both excluded (★★☆)\n",
        "\n",
        ""
      ],
      "metadata": {
        "id": "ydSF8eALJJdl"
      },
      "execution_count": null,
      "outputs": []
    },
    {
      "cell_type": "code",
      "source": [
        "arr = np.linspace(0, 1, 12, endpoint=True)[1:-1]\n",
        "\n",
        "\n",
        "print(arr)"
      ],
      "metadata": {
        "colab": {
          "base_uri": "https://localhost:8080/"
        },
        "id": "s_-e9YeYJq4I",
        "outputId": "01fbf2e5-1ab4-4497-ea09-003e85f05e03"
      },
      "execution_count": 14,
      "outputs": [
        {
          "output_type": "stream",
          "name": "stdout",
          "text": [
            "[0.09090909 0.18181818 0.27272727 0.36363636 0.45454545 0.54545455\n",
            " 0.63636364 0.72727273 0.81818182 0.90909091]\n"
          ]
        }
      ]
    },
    {
      "cell_type": "code",
      "source": [
        "40. Create a random vector of size 10 and sort it (★★☆)\n"
      ],
      "metadata": {
        "id": "a9pcC9CtJzi9"
      },
      "execution_count": null,
      "outputs": []
    },
    {
      "cell_type": "code",
      "source": [
        "arr = np.random.random(10)\n",
        "\n",
        "arr.sort()\n",
        "\n",
        "print(arr)"
      ],
      "metadata": {
        "colab": {
          "base_uri": "https://localhost:8080/"
        },
        "id": "9SX-yDnpJ1IY",
        "outputId": "0224f5f1-d75e-40fb-cbbe-c73e5a8b5a3e"
      },
      "execution_count": 16,
      "outputs": [
        {
          "output_type": "stream",
          "name": "stdout",
          "text": [
            "[0.12322743 0.24806943 0.31614386 0.34150517 0.43301068 0.46865763\n",
            " 0.57006912 0.71955753 0.7441064  0.88706252]\n"
          ]
        }
      ]
    },
    {
      "cell_type": "code",
      "source": [
        "41. How to sum a small array faster than np.sum? (★★☆)\n"
      ],
      "metadata": {
        "id": "RdBAzzthKcA7"
      },
      "execution_count": null,
      "outputs": []
    },
    {
      "cell_type": "code",
      "source": [
        "arr = np.arange(10)\n",
        "np.add.reduce(arr)"
      ],
      "metadata": {
        "colab": {
          "base_uri": "https://localhost:8080/"
        },
        "id": "zAH6i0bHKdjg",
        "outputId": "81eba06f-5399-4396-f236-c7232d45d329"
      },
      "execution_count": 17,
      "outputs": [
        {
          "output_type": "execute_result",
          "data": {
            "text/plain": [
              "45"
            ]
          },
          "metadata": {},
          "execution_count": 17
        }
      ]
    },
    {
      "cell_type": "code",
      "source": [
        "42. Consider two random array A and B, check if they are equal (★★☆)\n"
      ],
      "metadata": {
        "id": "mN5SIZ3TK0uQ"
      },
      "execution_count": null,
      "outputs": []
    },
    {
      "cell_type": "code",
      "source": [
        "# Generating the first array 'x' with 6 random integers (0 or 1) using np.random.randint()\n",
        "x = np.random.randint(0, 2, 6)\n",
        "\n",
        "# Printing the first generated array 'x'\n",
        "print(\"First array:\")\n",
        "print(x)\n",
        "\n",
        "# Generating the second array 'y' with 6 random integers (0 or 1) using np.random.randint()\n",
        "y = np.random.randint(0, 2, 6)\n",
        "\n",
        "# Printing the second generated array 'y'\n",
        "print(\"Second array:\")\n",
        "print(y)\n",
        "\n",
        "# Checking if the two arrays 'x' and 'y' are equal using np.allclose()\n",
        "# This function returns True if the two arrays are element-wise equal within a tolerance\n",
        "array_equal = np.allclose(x, y)\n",
        "\n",
        "# Printing whether the two arrays are equal or not\n",
        "print(\"Test above two arrays are equal or not!\")\n",
        "print(array_equal)"
      ],
      "metadata": {
        "colab": {
          "base_uri": "https://localhost:8080/"
        },
        "id": "j32tQvCdLK_g",
        "outputId": "5aada9b7-11b2-4562-8bce-bd75591cc693"
      },
      "execution_count": 18,
      "outputs": [
        {
          "output_type": "stream",
          "name": "stdout",
          "text": [
            "First array:\n",
            "[0 0 0 0 1 1]\n",
            "Second array:\n",
            "[0 1 0 1 0 0]\n",
            "Test above two arrays are equal or not!\n",
            "False\n"
          ]
        }
      ]
    },
    {
      "cell_type": "code",
      "source": [
        "43. Make an array immutable (read-only) (★★☆)\n"
      ],
      "metadata": {
        "id": "hCPqO99dLaaV"
      },
      "execution_count": null,
      "outputs": []
    },
    {
      "cell_type": "code",
      "source": [
        "import numpy as np\n",
        "\n",
        "x = np.zeros(10)\n",
        "x.flags.writeable = False\n",
        "\n",
        "# Create a copy of the array\n",
        "y = x.copy()\n",
        "\n",
        "# Modify the copy\n",
        "y[0] = 1\n",
        "\n",
        "# Print the modified copy\n",
        "print(y)"
      ],
      "metadata": {
        "colab": {
          "base_uri": "https://localhost:8080/"
        },
        "id": "64bUccZ_MHSr",
        "outputId": "d4b2b5e5-a2b9-42d7-82e1-5a488dfeb331"
      },
      "execution_count": 20,
      "outputs": [
        {
          "output_type": "stream",
          "name": "stdout",
          "text": [
            "[1. 0. 0. 0. 0. 0. 0. 0. 0. 0.]\n"
          ]
        }
      ]
    },
    {
      "cell_type": "code",
      "source": [
        "44. Consider a random 10x2 matrix representing cartesian coordinates, convert them to polar coordinates (★★☆)\n"
      ],
      "metadata": {
        "id": "IZpV_BO-MSM_"
      },
      "execution_count": null,
      "outputs": []
    },
    {
      "cell_type": "code",
      "source": [
        "z = np.random.random((10, 2))\n",
        "\n",
        "# Extracting the first column as 'x' and the second column as 'y' from the array 'z'\n",
        "x, y = z[:, 0], z[:, 1]\n",
        "\n",
        "# Calculating the Euclidean distance (r) using the formula sqrt(x^2 + y^2)\n",
        "r = np.sqrt(x**2 + y**2)\n",
        "\n",
        "# Calculating the angles (t) using arctan2() function, which returns the arctangent of y/x in radians\n",
        "t = np.arctan2(y, x)\n",
        "\n",
        "# Displaying the calculated Euclidean distances (r)\n",
        "print(r)\n",
        "\n",
        "# Displaying the calculated angles (t) in radians\n",
        "print(t)"
      ],
      "metadata": {
        "colab": {
          "base_uri": "https://localhost:8080/"
        },
        "id": "szXcHWXMMTsl",
        "outputId": "6359f9cc-1820-4af8-ec63-04f2e5d6422f"
      },
      "execution_count": 21,
      "outputs": [
        {
          "output_type": "stream",
          "name": "stdout",
          "text": [
            "[0.89959291 1.03296646 0.95469793 0.7670664  0.98465576 0.87048228\n",
            " 0.84276868 0.83580096 1.08990011 0.84399698]\n",
            "[1.5518637  0.53320912 0.28272502 0.6439185  0.35554894 1.33871005\n",
            " 0.06593935 1.5502575  0.44566331 1.29250488]\n"
          ]
        }
      ]
    },
    {
      "cell_type": "code",
      "source": [
        "45. Create random vector of size 10 and replace the maximum value by 0 (★★☆)\n",
        ""
      ],
      "metadata": {
        "id": "NSrGOGWPMnJ3"
      },
      "execution_count": null,
      "outputs": []
    },
    {
      "cell_type": "code",
      "source": [
        "x = np.random.random(15)\n",
        "\n",
        "# Displaying the original array 'x'\n",
        "print(\"Original array:\")\n",
        "print(x)\n",
        "\n",
        "# Finding the index of the maximum value in the array using x.argmax()\n",
        "# Replacing the maximum value with -1 using the index obtained from x.argmax()\n",
        "x[x.argmax()] = -1\n",
        "\n",
        "# Displaying the modified array where the maximum value has been replaced by -1\n",
        "print(\"Maximum value replaced by -1:\")\n",
        "print(x)"
      ],
      "metadata": {
        "colab": {
          "base_uri": "https://localhost:8080/"
        },
        "id": "CK_pL64cMvWL",
        "outputId": "b6e70e99-48ae-4867-89c5-3b973919f7a0"
      },
      "execution_count": 22,
      "outputs": [
        {
          "output_type": "stream",
          "name": "stdout",
          "text": [
            "Original array:\n",
            "[0.44315172 0.4481927  0.6551331  0.09781553 0.92968371 0.26001703\n",
            " 0.18258948 0.26252342 0.39713496 0.12369284 0.15109038 0.91726587\n",
            " 0.04772169 0.19190021 0.15937156]\n",
            "Maximum value replaced by -1:\n",
            "[ 0.44315172  0.4481927   0.6551331   0.09781553 -1.          0.26001703\n",
            "  0.18258948  0.26252342  0.39713496  0.12369284  0.15109038  0.91726587\n",
            "  0.04772169  0.19190021  0.15937156]\n"
          ]
        }
      ]
    }
  ]
}