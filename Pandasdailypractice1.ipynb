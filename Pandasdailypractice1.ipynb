{
  "nbformat": 4,
  "nbformat_minor": 0,
  "metadata": {
    "colab": {
      "provenance": [],
      "authorship_tag": "ABX9TyPtLtCUqdpfKylpg5ElKTpo",
      "include_colab_link": true
    },
    "kernelspec": {
      "name": "python3",
      "display_name": "Python 3"
    },
    "language_info": {
      "name": "python"
    }
  },
  "cells": [
    {
      "cell_type": "markdown",
      "metadata": {
        "id": "view-in-github",
        "colab_type": "text"
      },
      "source": [
        "<a href=\"https://colab.research.google.com/github/puritym8/Python-Data-Analysis/blob/main/Pandasdailypractice1.ipynb\" target=\"_parent\"><img src=\"https://colab.research.google.com/assets/colab-badge.svg\" alt=\"Open In Colab\"/></a>"
      ]
    },
    {
      "cell_type": "code",
      "execution_count": 1,
      "metadata": {
        "id": "xekx6nzwfWOl"
      },
      "outputs": [],
      "source": [
        "import pandas as pd"
      ]
    },
    {
      "cell_type": "code",
      "source": [
        "# Step 2: Create a dictionary\n",
        "data = {\n",
        "    'name': ['Bulbasaur', 'Charmander', 'Squirtle', 'Caterpie'],\n",
        "    'type': ['grass', 'fire', 'water', 'bug'],\n",
        "    'hp': [45, 39, 44, 45],\n",
        "    'evolution': ['Ivysaur', 'Charmeleon', 'Wartortle', 'Metapod'],\n",
        "    'pokedex': ['yes', 'no', 'yes', 'no']\n",
        "}\n",
        "\n",
        "# Step 3: Assign it to a variable called pokemon\n",
        "pokemon = pd.DataFrame(data)\n",
        "\n",
        "# Step 4: Reorder the columns\n",
        "pokemon = pokemon[['name', 'type', 'hp', 'evolution', 'pokedex']]\n",
        "print(pokemon)\n",
        "\n",
        "# Step 5: Add another column called place\n",
        "pokemon['place'] = ['Forest', 'Volcano', 'Ocean', 'Grassland']\n",
        "\n",
        "# Step 6: Present the type of each column\n",
        "print(\"Type of each column:\")\n",
        "print(pokemon.dtypes)"
      ],
      "metadata": {
        "colab": {
          "base_uri": "https://localhost:8080/"
        },
        "id": "b3aKI52Tgb5J",
        "outputId": "1504de19-db6d-4775-956c-3e13b1dac689"
      },
      "execution_count": 4,
      "outputs": [
        {
          "output_type": "stream",
          "name": "stdout",
          "text": [
            "         name   type  hp   evolution pokedex\n",
            "0   Bulbasaur  grass  45     Ivysaur     yes\n",
            "1  Charmander   fire  39  Charmeleon      no\n",
            "2    Squirtle  water  44   Wartortle     yes\n",
            "3    Caterpie    bug  45     Metapod      no\n",
            "Type of each column:\n",
            "name         object\n",
            "type         object\n",
            "hp            int64\n",
            "evolution    object\n",
            "pokedex      object\n",
            "place        object\n",
            "dtype: object\n"
          ]
        }
      ]
    },
    {
      "cell_type": "code",
      "source": [
        "Question: How can we access the first five rows of the DataFrame?"
      ],
      "metadata": {
        "id": "ykeb7bo7hPjA"
      },
      "execution_count": null,
      "outputs": []
    },
    {
      "cell_type": "code",
      "source": [
        "print(pokemon.head())\n"
      ],
      "metadata": {
        "colab": {
          "base_uri": "https://localhost:8080/"
        },
        "id": "pjH5IHgQhTkh",
        "outputId": "4fade896-72b9-489c-8072-0b2eef90b96a"
      },
      "execution_count": 3,
      "outputs": [
        {
          "output_type": "stream",
          "name": "stdout",
          "text": [
            "         name   type  hp   evolution pokedex      place\n",
            "0   Bulbasaur  grass  45     Ivysaur     yes     Forest\n",
            "1  Charmander   fire  39  Charmeleon      no    Volcano\n",
            "2    Squirtle  water  44   Wartortle     yes      Ocean\n",
            "3    Caterpie    bug  45     Metapod      no  Grassland\n"
          ]
        }
      ]
    }
  ]
}