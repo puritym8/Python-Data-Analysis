{
  "nbformat": 4,
  "nbformat_minor": 0,
  "metadata": {
    "colab": {
      "provenance": [],
      "authorship_tag": "ABX9TyPcws9E0mkFbknDbM2jiIT0",
      "include_colab_link": true
    },
    "kernelspec": {
      "name": "python3",
      "display_name": "Python 3"
    },
    "language_info": {
      "name": "python"
    }
  },
  "cells": [
    {
      "cell_type": "markdown",
      "metadata": {
        "id": "view-in-github",
        "colab_type": "text"
      },
      "source": [
        "<a href=\"https://colab.research.google.com/github/puritym8/Python-Data-Analysis/blob/main/numpydailypractice2.ipynb\" target=\"_parent\"><img src=\"https://colab.research.google.com/assets/colab-badge.svg\" alt=\"Open In Colab\"/></a>"
      ]
    },
    {
      "cell_type": "code",
      "source": [
        "import numpy as np"
      ],
      "metadata": {
        "id": "nnqyKBwz1Dvw"
      },
      "execution_count": null,
      "outputs": []
    },
    {
      "cell_type": "code",
      "source": [
        "16. How to add a border (filled with 0's) around an existing array?\n",
        "\n",
        "array = np.ones((3,3))\n",
        "print(array)\n",
        "\n",
        "array = np.pad(array, pad_width=1, mode='constant', constant_values=0)\n",
        "\n",
        "print(array)"
      ],
      "metadata": {
        "colab": {
          "base_uri": "https://localhost:8080/"
        },
        "id": "2GjUpZlyzTqy",
        "outputId": "3a3da5eb-bf9c-4dde-d34d-2dce5a62df61"
      },
      "execution_count": null,
      "outputs": [
        {
          "output_type": "stream",
          "name": "stdout",
          "text": [
            "[[1. 1. 1.]\n",
            " [1. 1. 1.]\n",
            " [1. 1. 1.]]\n",
            "[[0. 0. 0. 0. 0.]\n",
            " [0. 1. 1. 1. 0.]\n",
            " [0. 1. 1. 1. 0.]\n",
            " [0. 1. 1. 1. 0.]\n",
            " [0. 0. 0. 0. 0.]]\n"
          ]
        }
      ]
    },
    {
      "cell_type": "code",
      "source": [
        "17. What is the result of the following expression?\n",
        "0 * np.nan\n",
        "np.nan == np.nan\n",
        "np.inf > np.nan\n",
        "np.nan - np.nan\n",
        "np.nan in set([np.nan])\n",
        "0.3 == 3 * 0.1\n"
      ],
      "metadata": {
        "colab": {
          "base_uri": "https://localhost:8080/"
        },
        "id": "er7qxe1DzVzT",
        "outputId": "fcbe4669-62fe-4054-ebe3-48a6894962c9"
      },
      "execution_count": null,
      "outputs": [
        {
          "output_type": "stream",
          "name": "stdout",
          "text": [
            "Object `expression` not found.\n"
          ]
        },
        {
          "output_type": "execute_result",
          "data": {
            "text/plain": [
              "False"
            ]
          },
          "metadata": {},
          "execution_count": 8
        }
      ]
    },
    {
      "cell_type": "code",
      "source": [
        "array = np.diag([1,2,3,4], k=1)\n",
        "\n",
        "print(array)"
      ],
      "metadata": {
        "colab": {
          "base_uri": "https://localhost:8080/"
        },
        "id": "mBzjMl5yzVwA",
        "outputId": "6b224e8a-6281-4040-8d2f-5848c6acecc4"
      },
      "execution_count": null,
      "outputs": [
        {
          "output_type": "stream",
          "name": "stdout",
          "text": [
            "[[0 1 0 0 0]\n",
            " [0 0 2 0 0]\n",
            " [0 0 0 3 0]\n",
            " [0 0 0 0 4]\n",
            " [0 0 0 0 0]]\n"
          ]
        }
      ]
    },
    {
      "cell_type": "code",
      "source": [
        "array = np.ones((8,8), dtype=int)\n",
        "array[::2, 1::2] = 0\n",
        "array[1::2, ::2] = 0\n",
        "\n",
        "print(\"checkerboard pattern\")\n",
        "\n",
        "print(array)"
      ],
      "metadata": {
        "colab": {
          "base_uri": "https://localhost:8080/"
        },
        "id": "_qPhG0fPzVr1",
        "outputId": "883347f3-4f3b-4380-b14f-e0f7bb80b305"
      },
      "execution_count": null,
      "outputs": [
        {
          "output_type": "stream",
          "name": "stdout",
          "text": [
            "checkerboard pattern\n",
            "[[1 0 1 0 1 0 1 0]\n",
            " [0 1 0 1 0 1 0 1]\n",
            " [1 0 1 0 1 0 1 0]\n",
            " [0 1 0 1 0 1 0 1]\n",
            " [1 0 1 0 1 0 1 0]\n",
            " [0 1 0 1 0 1 0 1]\n",
            " [1 0 1 0 1 0 1 0]\n",
            " [0 1 0 1 0 1 0 1]]\n"
          ]
        }
      ]
    },
    {
      "cell_type": "code",
      "source": [
        "20. Consider a (6,7,8) shape array, what is the index (x,y,z) of the 100th element?\n",
        "\n",
        "print(np.unravel_index(99,(6,7,8)))"
      ],
      "metadata": {
        "id": "O2kf6P6dzVoM"
      },
      "execution_count": null,
      "outputs": []
    },
    {
      "cell_type": "code",
      "source": [
        "Create checkerboard 8 x 8 matrix using the tile function\n",
        "\n",
        "array = np.tile( np.array([[0,1],[1,0]]), (4,4))\n",
        "print(array)"
      ],
      "metadata": {
        "colab": {
          "base_uri": "https://localhost:8080/"
        },
        "id": "HbBgVmKKzVk7",
        "outputId": "2280ce6a-2fda-42c4-c60f-1fc0b3dfdce0"
      },
      "execution_count": null,
      "outputs": [
        {
          "output_type": "stream",
          "name": "stdout",
          "text": [
            "[[0 1 0 1 0 1 0 1]\n",
            " [1 0 1 0 1 0 1 0]\n",
            " [0 1 0 1 0 1 0 1]\n",
            " [1 0 1 0 1 0 1 0]\n",
            " [0 1 0 1 0 1 0 1]\n",
            " [1 0 1 0 1 0 1 0]\n",
            " [0 1 0 1 0 1 0 1]\n",
            " [1 0 1 0 1 0 1 0]]\n"
          ]
        }
      ]
    },
    {
      "cell_type": "code",
      "source": [
        "22. Normalize a 5x5 random matrix (★☆☆)\n",
        "\n",
        "Z = np.random.random((5,5))\n",
        "Zmax, Zmin = Z.max(), Z.min()\n",
        "Z = (Z - Zmin)/(Zmax - Zmin)\n",
        "print(Z)"
      ],
      "metadata": {
        "colab": {
          "base_uri": "https://localhost:8080/"
        },
        "id": "m-r7AaS7zVhz",
        "outputId": "d0ec14f3-21f1-4432-8f52-fdeea9c2e428"
      },
      "execution_count": null,
      "outputs": [
        {
          "output_type": "stream",
          "name": "stdout",
          "text": [
            "[[0.31973614 0.63053036 0.1148477  0.6447005  0.15998307]\n",
            " [0.02674631 0.12703743 0.84613817 0.26843376 0.62378309]\n",
            " [0.20744104 0.26634231 0.65828544 0.82678102 0.55769054]\n",
            " [0.30305808 0.05974956 0.52460976 0.         0.83271784]\n",
            " [1.         0.32577952 0.85891566 0.16934489 0.00349501]]\n"
          ]
        }
      ]
    },
    {
      "cell_type": "code",
      "source": [
        "Create a custom dtype that describes a color as four unsigned bytes (RGBA)\n"
      ],
      "metadata": {
        "id": "4a-m40BKilJ6"
      },
      "execution_count": null,
      "outputs": []
    },
    {
      "cell_type": "code",
      "source": [
        "\n",
        " color = np.dtype([(\"r\", np.ubyte, 1),\n",
        "                  (\"g\", np.ubyte, 1),\n",
        "                  (\"b\", np.ubyte, 1),\n",
        "                  (\"a\", np.ubyte, 1)])"
      ],
      "metadata": {
        "colab": {
          "base_uri": "https://localhost:8080/"
        },
        "id": "D38mR-7rzVea",
        "outputId": "074b3640-6943-4516-b05c-d62c584d2e68"
      },
      "execution_count": null,
      "outputs": [
        {
          "output_type": "stream",
          "name": "stderr",
          "text": [
            "<ipython-input-34-950c5cb321c8>:1: FutureWarning: Passing (type, 1) or '1type' as a synonym of type is deprecated; in a future version of numpy, it will be understood as (type, (1,)) / '(1,)type'.\n",
            "  color = np.dtype([(\"r\", np.ubyte, 1),\n"
          ]
        }
      ]
    },
    {
      "cell_type": "code",
      "source": [
        "24. Multiply a 5x3 matrix by a 3x2 matrix (real matrix product) (★☆☆)\n"
      ],
      "metadata": {
        "id": "DPCRdsoLjDft"
      },
      "execution_count": null,
      "outputs": []
    },
    {
      "cell_type": "code",
      "source": [
        "\n",
        "\n",
        "Z = np.ones((5,3)) @ np.ones((3,2))\n",
        "print(Z)"
      ],
      "metadata": {
        "colab": {
          "base_uri": "https://localhost:8080/"
        },
        "id": "WTaK_pTXz9az",
        "outputId": "8e3f70cf-e4ca-4b90-ebe8-119b1a1a95f8"
      },
      "execution_count": null,
      "outputs": [
        {
          "output_type": "stream",
          "name": "stdout",
          "text": [
            "[[3. 3.]\n",
            " [3. 3.]\n",
            " [3. 3.]\n",
            " [3. 3.]\n",
            " [3. 3.]]\n"
          ]
        }
      ]
    },
    {
      "cell_type": "code",
      "source": [
        "25. Given a 1D array, negate all elements which are between 3 and 8, in place. (★☆☆)\n"
      ],
      "metadata": {
        "id": "AJxDpFy5jZO4"
      },
      "execution_count": null,
      "outputs": []
    },
    {
      "cell_type": "code",
      "source": [
        "\n",
        "Z = np.arange(11)\n",
        "Z[(3 < Z) & (Z <= 8)] *= -1\n",
        "print(Z)"
      ],
      "metadata": {
        "colab": {
          "base_uri": "https://localhost:8080/"
        },
        "id": "tgJKE7wWz9JX",
        "outputId": "94881f07-0022-4ab6-9edc-091112491b9c"
      },
      "execution_count": null,
      "outputs": [
        {
          "output_type": "stream",
          "name": "stdout",
          "text": [
            "[ 0  1  2  3 -4 -5 -6 -7 -8  9 10]\n"
          ]
        }
      ]
    },
    {
      "cell_type": "code",
      "source": [
        "26. What is the output of the following script? (★☆☆)\n"
      ],
      "metadata": {
        "id": "CWEDXTDujrJc"
      },
      "execution_count": null,
      "outputs": []
    },
    {
      "cell_type": "code",
      "source": [
        "print(sum(range(5),-1))\n",
        "from numpy import *\n",
        "print(sum(range(5),-1))"
      ],
      "metadata": {
        "colab": {
          "base_uri": "https://localhost:8080/"
        },
        "id": "23Yntyq5zVbF",
        "outputId": "48b87c43-3d95-4e20-8e33-e9c4e6250fd8"
      },
      "execution_count": null,
      "outputs": [
        {
          "output_type": "stream",
          "name": "stdout",
          "text": [
            "9\n",
            "10\n"
          ]
        }
      ]
    },
    {
      "cell_type": "code",
      "source": [
        "This code has no syntax errors.\n",
        "1j*Z\n",
        "Z/1/1\n",
        "Z<Z>Z\n"
      ],
      "metadata": {
        "colab": {
          "base_uri": "https://localhost:8080/",
          "height": 106
        },
        "id": "x3Q-W5f7zVX-",
        "outputId": "f30464ed-dfdc-4d38-95ea-1f5a9149cc06"
      },
      "execution_count": null,
      "outputs": [
        {
          "output_type": "error",
          "ename": "SyntaxError",
          "evalue": "invalid syntax (<ipython-input-45-d5e7646c456b>, line 1)",
          "traceback": [
            "\u001b[0;36m  File \u001b[0;32m\"<ipython-input-45-d5e7646c456b>\"\u001b[0;36m, line \u001b[0;32m1\u001b[0m\n\u001b[0;31m    This code has no syntax errors.\u001b[0m\n\u001b[0m         ^\u001b[0m\n\u001b[0;31mSyntaxError\u001b[0m\u001b[0;31m:\u001b[0m invalid syntax\n"
          ]
        }
      ]
    },
    {
      "cell_type": "code",
      "source": [
        "28. What are the result of the following expressions?\n",
        "print (np.array(0) / np.array(0))\n",
        "print (np.array(0) // np.array(0))\n",
        "print (np.array([np.nan]).astype(int).astype(float))\n",
        "\n"
      ],
      "metadata": {
        "colab": {
          "base_uri": "https://localhost:8080/"
        },
        "id": "z5kFwFLgzVUZ",
        "outputId": "c078b31e-1dcb-46db-dfcd-38629341072a"
      },
      "execution_count": null,
      "outputs": [
        {
          "output_type": "stream",
          "name": "stdout",
          "text": [
            "Object `expressions` not found.\n",
            "nan\n",
            "0\n",
            "[-9.22337204e+18]\n"
          ]
        },
        {
          "output_type": "stream",
          "name": "stderr",
          "text": [
            "<ipython-input-46-89efdb584ae8>:2: RuntimeWarning: invalid value encountered in divide\n",
            "  print (np.array(0) / np.array(0))\n",
            "<ipython-input-46-89efdb584ae8>:3: RuntimeWarning: divide by zero encountered in floor_divide\n",
            "  print (np.array(0) // np.array(0))\n",
            "<ipython-input-46-89efdb584ae8>:4: RuntimeWarning: invalid value encountered in cast\n",
            "  print (np.array([np.nan]).astype(int).astype(float))\n"
          ]
        }
      ]
    },
    {
      "cell_type": "code",
      "source": [
        "29. How to round away from zero a float array ? (★☆☆)\n"
      ],
      "metadata": {
        "id": "pTFmpHoNmTlX"
      },
      "execution_count": null,
      "outputs": []
    },
    {
      "cell_type": "code",
      "source": [],
      "metadata": {
        "id": "isBxXsp9x7Y-"
      },
      "execution_count": null,
      "outputs": []
    },
    {
      "cell_type": "code",
      "source": [
        "\n",
        "Z = np.random.uniform(-10,+10,10)\n",
        "print (np.copysign(np.ceil(np.abs(Z)), Z))"
      ],
      "metadata": {
        "colab": {
          "base_uri": "https://localhost:8080/"
        },
        "id": "LTOrtEX5zVQL",
        "outputId": "8815d4e9-acac-4ba1-e578-eb2b0ac72afb"
      },
      "execution_count": null,
      "outputs": [
        {
          "output_type": "stream",
          "name": "stdout",
          "text": [
            "[  4.   1.   9.  -3.  10.  -2.  10. -10.  -1.  -7.]\n"
          ]
        }
      ]
    },
    {
      "cell_type": "code",
      "source": [
        "\n",
        "30. How to find common values between two arrays? (★☆☆)\n"
      ],
      "metadata": {
        "id": "4tYnLpymzVNE"
      },
      "execution_count": null,
      "outputs": []
    },
    {
      "cell_type": "code",
      "source": [
        "Z1 = np.random.randint(0,10,10)\n",
        "Z2 = np.random.randint(0,10,10)\n",
        "print(np.intersect1d(Z1,Z2))"
      ],
      "metadata": {
        "colab": {
          "base_uri": "https://localhost:8080/"
        },
        "id": "0K7ouvJWzVJv",
        "outputId": "d4e0e919-14ae-48ed-b9e0-d8d364dc5c8b"
      },
      "execution_count": null,
      "outputs": [
        {
          "output_type": "stream",
          "name": "stdout",
          "text": [
            "[1 2 4 8]\n"
          ]
        }
      ]
    },
    {
      "cell_type": "code",
      "source": [],
      "metadata": {
        "id": "aM_pdzmazU62"
      },
      "execution_count": null,
      "outputs": []
    },
    {
      "cell_type": "code",
      "execution_count": null,
      "metadata": {
        "id": "KXts92Uyx4cy"
      },
      "outputs": [],
      "source": [
        "\n",
        "\n",
        "\n",
        "\n",
        "\n",
        "\n",
        "\n",
        "\n",
        "\n",
        "\n"
      ]
    }
  ]
}