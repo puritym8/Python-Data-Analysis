{
  "nbformat": 4,
  "nbformat_minor": 0,
  "metadata": {
    "colab": {
      "provenance": [],
      "authorship_tag": "ABX9TyN3k507YggbBftAEeVz/ikn",
      "include_colab_link": true
    },
    "kernelspec": {
      "name": "python3",
      "display_name": "Python 3"
    },
    "language_info": {
      "name": "python"
    }
  },
  "cells": [
    {
      "cell_type": "markdown",
      "metadata": {
        "id": "view-in-github",
        "colab_type": "text"
      },
      "source": [
        "<a href=\"https://colab.research.google.com/github/puritym8/Python-Data-Analysis/blob/main/Pandasdailypractice2.ipynb\" target=\"_parent\"><img src=\"https://colab.research.google.com/assets/colab-badge.svg\" alt=\"Open In Colab\"/></a>"
      ]
    },
    {
      "cell_type": "code",
      "execution_count": 1,
      "metadata": {
        "id": "OsqDLbktMbfr"
      },
      "outputs": [],
      "source": [
        "import pandas as pd"
      ]
    },
    {
      "cell_type": "code",
      "source": [
        "#Step 2. Import the dataset from this address.\n",
        "\n",
        "url = \"https://raw.githubusercontent.com/guipsamora/pandas_exercises/master/02_Filtering_%26_Sorting/Euro12/Euro_2012_stats_TEAM.csv\"\n",
        "\n",
        "euro12 =pd.read_csv(url,)\n",
        "\n",
        "print(euro12)"
      ],
      "metadata": {
        "id": "yFcpYKCINQhk"
      },
      "execution_count": null,
      "outputs": []
    },
    {
      "cell_type": "code",
      "source": [
        "euro12.shape"
      ],
      "metadata": {
        "colab": {
          "base_uri": "https://localhost:8080/"
        },
        "id": "N4QJDmt6N7MN",
        "outputId": "64927ddd-13ba-4636-de50-7e96eff52301"
      },
      "execution_count": 3,
      "outputs": [
        {
          "output_type": "execute_result",
          "data": {
            "text/plain": [
              "(16, 35)"
            ]
          },
          "metadata": {},
          "execution_count": 3
        }
      ]
    },
    {
      "cell_type": "code",
      "source": [
        "euro12.size"
      ],
      "metadata": {
        "colab": {
          "base_uri": "https://localhost:8080/"
        },
        "id": "0FMfW2_ZN_S3",
        "outputId": "5a47294a-e596-4f5d-e6b9-e81fa25c373c"
      },
      "execution_count": 5,
      "outputs": [
        {
          "output_type": "execute_result",
          "data": {
            "text/plain": [
              "560"
            ]
          },
          "metadata": {},
          "execution_count": 5
        }
      ]
    },
    {
      "cell_type": "code",
      "source": [
        "print(euro12.head())"
      ],
      "metadata": {
        "id": "L3ZJDProO1lO"
      },
      "execution_count": null,
      "outputs": []
    },
    {
      "cell_type": "code",
      "source": [
        "#Step 4. Select only the Goal column.\n",
        "\n",
        "goal_column = euro12['Goals']\n",
        "\n",
        "print(\"goal_column:\", goal_column)"
      ],
      "metadata": {
        "id": "F8tD4NN9OkBG"
      },
      "execution_count": null,
      "outputs": []
    },
    {
      "cell_type": "code",
      "source": [
        "#Step 5. How many team participated in the Euro2012?\n",
        "\n",
        "num_teams = euro12['Team'].nunique()\n",
        "\n",
        "print(\"num_teams:\", num_teams)"
      ],
      "metadata": {
        "colab": {
          "base_uri": "https://localhost:8080/"
        },
        "id": "AA92apdRQApf",
        "outputId": "5e45f55b-1beb-445b-8fd4-9cb3a6370c0e"
      },
      "execution_count": 12,
      "outputs": [
        {
          "output_type": "stream",
          "name": "stdout",
          "text": [
            "num_teams: 16\n"
          ]
        }
      ]
    },
    {
      "cell_type": "code",
      "source": [
        "#Step 6. What is the number of columns in the dataset?\n",
        "\n",
        "num_columns = euro12.shape[1]\n",
        "\n",
        "print(\"num_columns:\", num_columns)"
      ],
      "metadata": {
        "colab": {
          "base_uri": "https://localhost:8080/"
        },
        "id": "EyFuouRoQYZU",
        "outputId": "9c0cf7d6-869a-4af1-bba3-5c61e8cbd8f4"
      },
      "execution_count": 14,
      "outputs": [
        {
          "output_type": "stream",
          "name": "stdout",
          "text": [
            "num_columns: 35\n"
          ]
        }
      ]
    },
    {
      "cell_type": "code",
      "source": [
        "#Step 7. View only the columns Team, Yellow Cards and Red Cards and assign them to a dataframe called discipline\n",
        "\n",
        "discipline = euro12[['Team', 'Yellow Cards', 'Red Cards']]\n",
        "\n",
        "print(discipline)"
      ],
      "metadata": {
        "colab": {
          "base_uri": "https://localhost:8080/"
        },
        "id": "l4W3trx3Q-OH",
        "outputId": "13efc7cd-5887-474b-b4af-7d1297108f86"
      },
      "execution_count": 15,
      "outputs": [
        {
          "output_type": "stream",
          "name": "stdout",
          "text": [
            "                   Team  Yellow Cards  Red Cards\n",
            "0               Croatia             9          0\n",
            "1        Czech Republic             7          0\n",
            "2               Denmark             4          0\n",
            "3               England             5          0\n",
            "4                France             6          0\n",
            "5               Germany             4          0\n",
            "6                Greece             9          1\n",
            "7                 Italy            16          0\n",
            "8           Netherlands             5          0\n",
            "9                Poland             7          1\n",
            "10             Portugal            12          0\n",
            "11  Republic of Ireland             6          1\n",
            "12               Russia             6          0\n",
            "13                Spain            11          0\n",
            "14               Sweden             7          0\n",
            "15              Ukraine             5          0\n"
          ]
        }
      ]
    }
  ]
}