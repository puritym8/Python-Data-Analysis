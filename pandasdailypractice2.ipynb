{
  "nbformat": 4,
  "nbformat_minor": 0,
  "metadata": {
    "colab": {
      "provenance": [],
      "authorship_tag": "ABX9TyM77a2YPMZBNdEIFXvqPijP",
      "include_colab_link": true
    },
    "kernelspec": {
      "name": "python3",
      "display_name": "Python 3"
    },
    "language_info": {
      "name": "python"
    }
  },
  "cells": [
    {
      "cell_type": "markdown",
      "metadata": {
        "id": "view-in-github",
        "colab_type": "text"
      },
      "source": [
        "<a href=\"https://colab.research.google.com/github/puritym8/Python-Data-Analysis/blob/main/pandasdailypractice2.ipynb\" target=\"_parent\"><img src=\"https://colab.research.google.com/assets/colab-badge.svg\" alt=\"Open In Colab\"/></a>"
      ]
    },
    {
      "cell_type": "code",
      "source": [
        "import pandas as pd\n"
      ],
      "metadata": {
        "id": "m54724_uptGf"
      },
      "execution_count": 1,
      "outputs": []
    },
    {
      "cell_type": "code",
      "source": [
        "#Step 2. Import the dataset from this address.\n",
        "\n",
        "url = \"https://raw.githubusercontent.com/justmarkham/DAT8/master/data/chipotle.tsv\"\n",
        "\n",
        "#Step 3. Assign it to a variable called chipo.\n",
        "\n",
        "chipo = pd.read_csv(url, sep='\\t')\n",
        "\n",
        "print(chipo)"
      ],
      "metadata": {
        "colab": {
          "base_uri": "https://localhost:8080/"
        },
        "id": "5AUJik2iFU9d",
        "outputId": "6222b414-e7ed-4403-cbb1-f4b8ffb7c02c"
      },
      "execution_count": 19,
      "outputs": [
        {
          "output_type": "stream",
          "name": "stdout",
          "text": [
            "      order_id  quantity                              item_name  \\\n",
            "0            1         1           Chips and Fresh Tomato Salsa   \n",
            "1            1         1                                   Izze   \n",
            "2            1         1                       Nantucket Nectar   \n",
            "3            1         1  Chips and Tomatillo-Green Chili Salsa   \n",
            "4            2         2                           Chicken Bowl   \n",
            "...        ...       ...                                    ...   \n",
            "4617      1833         1                          Steak Burrito   \n",
            "4618      1833         1                          Steak Burrito   \n",
            "4619      1834         1                     Chicken Salad Bowl   \n",
            "4620      1834         1                     Chicken Salad Bowl   \n",
            "4621      1834         1                     Chicken Salad Bowl   \n",
            "\n",
            "                                     choice_description item_price  \n",
            "0                                                   NaN     $2.39   \n",
            "1                                          [Clementine]     $3.39   \n",
            "2                                               [Apple]     $3.39   \n",
            "3                                                   NaN     $2.39   \n",
            "4     [Tomatillo-Red Chili Salsa (Hot), [Black Beans...    $16.98   \n",
            "...                                                 ...        ...  \n",
            "4617  [Fresh Tomato Salsa, [Rice, Black Beans, Sour ...    $11.75   \n",
            "4618  [Fresh Tomato Salsa, [Rice, Sour Cream, Cheese...    $11.75   \n",
            "4619  [Fresh Tomato Salsa, [Fajita Vegetables, Pinto...    $11.25   \n",
            "4620  [Fresh Tomato Salsa, [Fajita Vegetables, Lettu...     $8.75   \n",
            "4621  [Fresh Tomato Salsa, [Fajita Vegetables, Pinto...     $8.75   \n",
            "\n",
            "[4622 rows x 5 columns]\n"
          ]
        }
      ]
    },
    {
      "cell_type": "code",
      "source": [
        "chipo.shape"
      ],
      "metadata": {
        "colab": {
          "base_uri": "https://localhost:8080/"
        },
        "id": "amgFVhAnHsLB",
        "outputId": "05fe522c-0e98-4924-dbb5-ca254a6eeecf"
      },
      "execution_count": 12,
      "outputs": [
        {
          "output_type": "execute_result",
          "data": {
            "text/plain": [
              "(4622, 5)"
            ]
          },
          "metadata": {},
          "execution_count": 12
        }
      ]
    },
    {
      "cell_type": "code",
      "source": [
        "chipo.size"
      ],
      "metadata": {
        "colab": {
          "base_uri": "https://localhost:8080/"
        },
        "id": "YwF1llaIIAqg",
        "outputId": "54e6c6b4-3f1a-4008-fa86-9393bae6f454"
      },
      "execution_count": 15,
      "outputs": [
        {
          "output_type": "execute_result",
          "data": {
            "text/plain": [
              "23110"
            ]
          },
          "metadata": {},
          "execution_count": 15
        }
      ]
    },
    {
      "cell_type": "code",
      "source": [
        "# Print the first few rows of the 'item_price' column\n",
        "print(chipo['item_price'].head())"
      ],
      "metadata": {
        "colab": {
          "base_uri": "https://localhost:8080/"
        },
        "id": "pi8UN_ejGk0w",
        "outputId": "f26d581d-5340-4dac-a717-507be378c2e9"
      },
      "execution_count": 6,
      "outputs": [
        {
          "output_type": "stream",
          "name": "stdout",
          "text": [
            "0     $2.39 \n",
            "1     $3.39 \n",
            "2     $3.39 \n",
            "3     $2.39 \n",
            "4    $16.98 \n",
            "Name: item_price, dtype: object\n"
          ]
        }
      ]
    },
    {
      "cell_type": "code",
      "source": [
        "#Step 4. How many products cost more than $10?\n",
        "\n",
        "# Remove the dollar sign and trailing whitespace from the `item_price` column\n",
        "chipo['item_price'] = chipo['item_price'].str.replace('$', '', regex=False)\n",
        "chipo['item_price'] = chipo['item_price'].str.strip()\n",
        "\n",
        "\n",
        "# Convert the item_price column to float\n",
        "chipo['item_price'] = chipo['item_price'].astype(float)\n",
        "\n",
        "# Select products costing more than $10.00\n",
        "products_over_10 = chipo[chipo['item_price'] > 10.00]\n",
        "# Count the number of products costing more than $10.00\n",
        "num_products_over_10 = len(products_over_10)\n",
        "\n",
        "\n",
        "print(\"Number of products costing more than $10:\", num_products_over_10)"
      ],
      "metadata": {
        "colab": {
          "base_uri": "https://localhost:8080/"
        },
        "id": "uARgl7edFRQA",
        "outputId": "9dcd6f21-3f90-47d7-f256-8afe0d7dd279"
      },
      "execution_count": 8,
      "outputs": [
        {
          "output_type": "stream",
          "name": "stdout",
          "text": [
            "Number of products costing more than $10: 1130\n"
          ]
        }
      ]
    },
    {
      "cell_type": "code",
      "source": [
        "#Step 5. What is the price of each item?\n",
        "\n",
        "#print a data frame with only two columns item_name and item_price\n",
        "\n",
        "item_prices = chipo[['item_name', 'item_price']].drop_duplicates()\n",
        "print(item_prices)"
      ],
      "metadata": {
        "colab": {
          "base_uri": "https://localhost:8080/"
        },
        "id": "VBGBmRKBHfbv",
        "outputId": "e8d40c23-53d8-43c1-f8ff-5c9cf8b1c626"
      },
      "execution_count": 9,
      "outputs": [
        {
          "output_type": "stream",
          "name": "stdout",
          "text": [
            "                                  item_name  item_price\n",
            "0              Chips and Fresh Tomato Salsa        2.39\n",
            "1                                      Izze        3.39\n",
            "2                          Nantucket Nectar        3.39\n",
            "3     Chips and Tomatillo-Green Chili Salsa        2.39\n",
            "4                              Chicken Bowl       16.98\n",
            "...                                     ...         ...\n",
            "4237                    Chips and Guacamole        8.50\n",
            "4354                       Steak Soft Tacos       18.50\n",
            "4489                    Chips and Guacamole       17.80\n",
            "4509                                  Chips        1.99\n",
            "4510                          Barbacoa Bowl       11.49\n",
            "\n",
            "[209 rows x 2 columns]\n"
          ]
        }
      ]
    },
    {
      "cell_type": "code",
      "source": [
        "#Step 6. Sort by the name of the item\n",
        "\n",
        "sorted_chipo = chipo.sort_values(by='item_name')\n",
        "\n",
        "print(sorted_chipo)"
      ],
      "metadata": {
        "id": "KddCVTOCIZOG"
      },
      "execution_count": null,
      "outputs": []
    },
    {
      "cell_type": "code",
      "source": [
        "#Step 7. What was the quantity of the most expensive item ordered?\n",
        "\n",
        "most_expensive_item = chipo.loc[chipo['item_price'].idxmax()]\n",
        "print(\"Quantity of the most expensive item ordered:\", most_expensive_item['quantity'])"
      ],
      "metadata": {
        "colab": {
          "base_uri": "https://localhost:8080/"
        },
        "id": "McZ4x94SInr3",
        "outputId": "c42b24b4-b4c7-4bcd-9724-adab8fd976a6"
      },
      "execution_count": 18,
      "outputs": [
        {
          "output_type": "stream",
          "name": "stdout",
          "text": [
            "Quantity of the most expensive item ordered: 15\n"
          ]
        }
      ]
    },
    {
      "cell_type": "code",
      "source": [
        "#Step 8. How many times was a Veggie Salad Bowl ordered?\n",
        "\n",
        "veggie_salad_bowl_orders = chipo[chipo['item_name'] == 'Veggie Salad Bowl']\n",
        "num_veggie_salad_bowl_orders = len(veggie_salad_bowl_orders)\n",
        "print(\"Number of times Veggie Salad Bowl was ordered:\", num_veggie_salad_bowl_orders)"
      ],
      "metadata": {
        "colab": {
          "base_uri": "https://localhost:8080/"
        },
        "id": "baNXjzPQJrrt",
        "outputId": "f5f44826-c27b-489f-ef33-6066d6bab020"
      },
      "execution_count": 20,
      "outputs": [
        {
          "output_type": "stream",
          "name": "stdout",
          "text": [
            "Number of times Veggie Salad Bowl was ordered: 18\n"
          ]
        }
      ]
    },
    {
      "cell_type": "code",
      "execution_count": 21,
      "metadata": {
        "colab": {
          "base_uri": "https://localhost:8080/"
        },
        "id": "P9rZxZeNoaZV",
        "outputId": "be93a2d1-c094-4871-d9f3-9744d4cfbcaf"
      },
      "outputs": [
        {
          "output_type": "stream",
          "name": "stdout",
          "text": [
            "Number of times more than one Canned Soda was ordered: 20\n"
          ]
        }
      ],
      "source": [
        "#Step 9. How many times did someone order more than one Canned Soda?\n",
        "\n",
        "more_than_one_canned_soda_orders = chipo[(chipo['item_name'] == 'Canned Soda') & (chipo['quantity'] > 1)]\n",
        "num_more_than_one_canned_soda_orders = len(more_than_one_canned_soda_orders)\n",
        "print(\"Number of times more than one Canned Soda was ordered:\", num_more_than_one_canned_soda_orders)"
      ]
    }
  ]
}