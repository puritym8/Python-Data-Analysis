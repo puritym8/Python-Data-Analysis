{
  "nbformat": 4,
  "nbformat_minor": 0,
  "metadata": {
    "colab": {
      "provenance": [],
      "authorship_tag": "ABX9TyOQR8Ki3gCPmeLPSH+xKbeH",
      "include_colab_link": true
    },
    "kernelspec": {
      "name": "python3",
      "display_name": "Python 3"
    },
    "language_info": {
      "name": "python"
    }
  },
  "cells": [
    {
      "cell_type": "markdown",
      "metadata": {
        "id": "view-in-github",
        "colab_type": "text"
      },
      "source": [
        "<a href=\"https://colab.research.google.com/github/puritym8/Python-Data-Analysis/blob/main/Pandasweekly_Google_finance.ipynb\" target=\"_parent\"><img src=\"https://colab.research.google.com/assets/colab-badge.svg\" alt=\"Open In Colab\"/></a>"
      ]
    },
    {
      "cell_type": "code",
      "execution_count": 9,
      "metadata": {
        "id": "b0xI5mxZgNFn"
      },
      "outputs": [],
      "source": [
        "#Step 1. Import the necessary libraries\n",
        "\n",
        "import pandas as pd\n",
        "from datetime import datetime\n",
        "import pandas_datareader as web\n",
        "import yfinance as yf\n"
      ]
    },
    {
      "cell_type": "code",
      "source": [
        "#Step 2. Create your time range (start and end variables). The start date should be 01/01/2015 and the end should today (whatever your today is)\n",
        "\n",
        "start = datetime(2015, 1, 1)\n",
        "end = datetime.today()"
      ],
      "metadata": {
        "id": "l_UXaDnyscB1"
      },
      "execution_count": 13,
      "outputs": []
    },
    {
      "cell_type": "code",
      "source": [
        "#Step 3. Select the Apple, Tesla, Twitter, IBM, LinkedIn stocks symbols and assign them to a variable called stocks\n",
        "\n",
        "stocks = ['AAPL', 'TSLA', 'IBM', 'LNKD']\n",
        "\n",
        "stocks"
      ],
      "metadata": {
        "colab": {
          "base_uri": "https://localhost:8080/"
        },
        "id": "Swci0X2Ns6-a",
        "outputId": "125c3cb6-e219-4799-8abb-51d04ddbd9d8"
      },
      "execution_count": 5,
      "outputs": [
        {
          "output_type": "execute_result",
          "data": {
            "text/plain": [
              "['AAPL', 'TSLA', 'IBM', 'LNKD']"
            ]
          },
          "metadata": {},
          "execution_count": 5
        }
      ]
    },
    {
      "cell_type": "code",
      "source": [
        "#Step 4. Read the data from google, assign to df and print it\n",
        "\n",
        "df = web.DataReader(stocks, 'yahoo', start, end)['Adj Close']\n"
      ],
      "metadata": {
        "id": "6lfLLoHetW5e"
      },
      "execution_count": null,
      "outputs": []
    },
    {
      "cell_type": "code",
      "source": [
        "df = yf.download(stocks, start=start, end=end, progress=False)['Adj Close']\n"
      ],
      "metadata": {
        "id": "7TFCWNIm0WGQ",
        "outputId": "03d5e48e-059a-41fd-c046-02bd867c51aa",
        "colab": {
          "base_uri": "https://localhost:8080/"
        }
      },
      "execution_count": 14,
      "outputs": [
        {
          "output_type": "stream",
          "name": "stderr",
          "text": [
            "ERROR:yfinance:\n",
            "1 Failed download:\n",
            "ERROR:yfinance:['LNKD']: Exception('%ticker%: No price data found, symbol may be delisted (1d 2015-01-01 00:00:00 -> 2024-04-13 09:39:06.075222)')\n"
          ]
        }
      ]
    },
    {
      "cell_type": "code",
      "source": [
        "#Step 5. What is the type of structure of df ?\n"
      ],
      "metadata": {
        "id": "_FqvLuJqvYzH"
      },
      "execution_count": null,
      "outputs": []
    },
    {
      "cell_type": "code",
      "source": [
        "#Step 6. Print all the Items axis values\n"
      ],
      "metadata": {
        "id": "bvkCG87YveMR"
      },
      "execution_count": null,
      "outputs": []
    },
    {
      "cell_type": "code",
      "source": [
        "#Step 7. Good, now we know the data avaiable. Create a dataFrame called vol, with the Volume values.\n"
      ],
      "metadata": {
        "id": "RQWGe_j-vkMM"
      },
      "execution_count": null,
      "outputs": []
    },
    {
      "cell_type": "markdown",
      "source": [
        "Step 8. Aggregate the data of Volume to weekly\n"
      ],
      "metadata": {
        "id": "TlsHkpYvvzCx"
      }
    },
    {
      "cell_type": "markdown",
      "source": [
        "Step 9. Find all the volume traded in the year of 2015\n"
      ],
      "metadata": {
        "id": "kBjXyhLhv8Ng"
      }
    },
    {
      "cell_type": "markdown",
      "source": [
        "BONUS: Create your own question and answer it.\n"
      ],
      "metadata": {
        "id": "z5UKSlzqv9Jq"
      }
    }
  ]
}