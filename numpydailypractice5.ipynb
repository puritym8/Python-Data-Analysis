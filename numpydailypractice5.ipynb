{
  "nbformat": 4,
  "nbformat_minor": 0,
  "metadata": {
    "colab": {
      "provenance": [],
      "authorship_tag": "ABX9TyN2+lIt2oBd37PFlv2B8F+v",
      "include_colab_link": true
    },
    "kernelspec": {
      "name": "python3",
      "display_name": "Python 3"
    },
    "language_info": {
      "name": "python"
    }
  },
  "cells": [
    {
      "cell_type": "markdown",
      "metadata": {
        "id": "view-in-github",
        "colab_type": "text"
      },
      "source": [
        "<a href=\"https://colab.research.google.com/github/puritym8/Python-Data-Analysis/blob/main/numpydailypractice5.ipynb\" target=\"_parent\"><img src=\"https://colab.research.google.com/assets/colab-badge.svg\" alt=\"Open In Colab\"/></a>"
      ]
    },
    {
      "cell_type": "code",
      "execution_count": 1,
      "metadata": {
        "id": "8y12xfoHuYN6"
      },
      "outputs": [],
      "source": [
        "import numpy as np"
      ]
    },
    {
      "cell_type": "code",
      "source": [
        "61. Find the nearest value from a given value in an array (★★☆)\n"
      ],
      "metadata": {
        "id": "q6e4xQl0utYy"
      },
      "execution_count": null,
      "outputs": []
    },
    {
      "cell_type": "code",
      "source": [
        "arr = np.random.uniform(1, 12, 5)\n",
        "\n",
        "# Setting a value 'v' to find the number closest to it in the array\n",
        "v = 4\n",
        "\n",
        "# Finding the value 'n' in 'arr' that is closest to 'v'\n",
        "# Using np.abs(arr - v).argmin() to get the index of the element in 'arr' closest to 'v'\n",
        "# Accessing the element using arr.flat[index] to get the closest value 'n'\n",
        "n = arr.flat[np.abs(arr - v).argmin()]\n",
        "\n",
        "# Printing the value 'n' that is closest to 'v'\n",
        "print(n)"
      ],
      "metadata": {
        "colab": {
          "base_uri": "https://localhost:8080/"
        },
        "id": "peA-8YzvuulP",
        "outputId": "08a5db9f-7de1-420b-b8df-151e0fe6a98f"
      },
      "execution_count": null,
      "outputs": [
        {
          "output_type": "stream",
          "name": "stdout",
          "text": [
            "4.9475644923531465\n"
          ]
        }
      ]
    },
    {
      "cell_type": "code",
      "source": [
        "62. Considering two arrays with shape (1,3) and (3,1), how to compute their sum using an iterator? (★★☆)\n"
      ],
      "metadata": {
        "id": "t2ve5GsYvPZO"
      },
      "execution_count": null,
      "outputs": []
    },
    {
      "cell_type": "code",
      "source": [
        "a = np.array([1, 2, 3])\n",
        "b = np.array([0, 1, 2])\n",
        "\n",
        "c = a.reshape(3, 1) @ b.reshape(1, 3)\n",
        "print(c)"
      ],
      "metadata": {
        "colab": {
          "base_uri": "https://localhost:8080/"
        },
        "id": "1m7ZiQgqvQdI",
        "outputId": "ac81e111-1d91-4435-cfc4-05664d65489f"
      },
      "execution_count": null,
      "outputs": [
        {
          "output_type": "stream",
          "name": "stdout",
          "text": [
            "[[0 1 2]\n",
            " [0 2 4]\n",
            " [0 3 6]]\n"
          ]
        }
      ]
    },
    {
      "cell_type": "code",
      "source": [
        "63. Create an array class that has a name attribute (★★☆)*******\n"
      ],
      "metadata": {
        "id": "gKCt76jZzgnv"
      },
      "execution_count": null,
      "outputs": []
    },
    {
      "source": [
        "class NamedArray(np.ndarray):\n",
        "  def __new__(cls, array, name=\"no name\"):\n",
        "    obj = np.asarray(array).view(cls)\n",
        "    obj.name = name\n",
        "    return obj\n",
        "\n",
        "  def __array_finalize__(self, obj):\n",
        "    if obj is None:\n",
        "      return\n",
        "    self.info = getattr(obj, 'name', \"no name\")\n",
        "\n",
        "Z = NamedArray(np.arange(10), \"range_10\")\n",
        "print(Z.name)"
      ],
      "cell_type": "code",
      "metadata": {
        "colab": {
          "base_uri": "https://localhost:8080/"
        },
        "id": "0d96-ClZ1jwR",
        "outputId": "043dd4ab-d2d6-4e6a-8f28-4596efd47580"
      },
      "execution_count": null,
      "outputs": [
        {
          "output_type": "stream",
          "name": "stdout",
          "text": [
            "range_10\n"
          ]
        }
      ]
    },
    {
      "cell_type": "code",
      "source": [
        "64. Consider a given vector, how to add 1 to each element indexed by a second vector (be careful with repeated indices)? (★★★)\n"
      ],
      "metadata": {
        "id": "qUOSXsxEz92T"
      },
      "execution_count": null,
      "outputs": []
    },
    {
      "cell_type": "code",
      "source": [
        "given_vector = np.array([1, 2, 3, 4, 5])\n",
        "\n",
        "# Second vector containing indices\n",
        "indices_vector = np.array([1, 3, 3, 4, 0])\n",
        "\n",
        "# Create an array to store the result\n",
        "result = np.zeros_like(given_vector)\n",
        "\n",
        "# Loop through the indices and add 1 to corresponding elements in the result array\n",
        "unique_indices, counts = np.unique(indices_vector, return_counts=True)\n",
        "result[unique_indices] += counts\n",
        "\n",
        "print(\"Original vector:\", given_vector)\n",
        "print(\"Indices vector:\", indices_vector)\n",
        "print(\"Result after adding 1 to elements indexed by second vector:\", result)"
      ],
      "metadata": {
        "colab": {
          "base_uri": "https://localhost:8080/"
        },
        "id": "68qaN0Mc27E5",
        "outputId": "49705682-89b4-459b-d3bf-588087793e2e"
      },
      "execution_count": null,
      "outputs": [
        {
          "output_type": "stream",
          "name": "stdout",
          "text": [
            "Original vector: [1 2 3 4 5]\n",
            "Indices vector: [1 3 3 4 0]\n",
            "Result after adding 1 to elements indexed by second vector: [1 1 0 2 1]\n"
          ]
        }
      ]
    },
    {
      "cell_type": "code",
      "source": [
        "65. How to accumulate elements of a vector (X) to an array (F) based on an index list (I)? (★★★)\n"
      ],
      "metadata": {
        "id": "irK6dkbm3MDI"
      },
      "execution_count": null,
      "outputs": []
    },
    {
      "cell_type": "code",
      "source": [
        "X =[1,2,3,4,5,6]\n",
        "I =[1,3,9,3,4,1]\n",
        "\n",
        "F =np.bincount(I,X)\n",
        "\n",
        "print(F)"
      ],
      "metadata": {
        "colab": {
          "base_uri": "https://localhost:8080/"
        },
        "id": "WSixIFhU3PIt",
        "outputId": "d4e0ce36-e9f3-4e44-9f1b-4458f2cbac4c"
      },
      "execution_count": null,
      "outputs": [
        {
          "output_type": "stream",
          "name": "stdout",
          "text": [
            "[0. 7. 0. 6. 5. 0. 0. 0. 0. 3.]\n"
          ]
        }
      ]
    },
    {
      "cell_type": "code",
      "source": [
        "66. Considering a (w,h,3) image of (dtype=ubyte), compute the number of unique colors (★★☆)\n"
      ],
      "metadata": {
        "id": "v3yhGJp14KzL"
      },
      "execution_count": null,
      "outputs": []
    },
    {
      "cell_type": "code",
      "source": [
        "w,h = 16,16\n",
        "I = np.random.randint(0,2,(h,w,3)).astype(np.ubyte)\n",
        "F = I[...,0] * 256 * 256 + I[...,1] * 256 +I[...,2]\n",
        "n = len(np.unique(F))\n",
        "print(np.unique(I))"
      ],
      "metadata": {
        "colab": {
          "base_uri": "https://localhost:8080/"
        },
        "id": "_WWtkYmu4L62",
        "outputId": "724c8d81-639c-4971-80af-5f3957ef83fd"
      },
      "execution_count": null,
      "outputs": [
        {
          "output_type": "stream",
          "name": "stdout",
          "text": [
            "[0 1]\n"
          ]
        }
      ]
    },
    {
      "cell_type": "code",
      "source": [
        "67. Considering a four dimensions array, how to get sum over the last two axis at once? (★★★)\n"
      ],
      "metadata": {
        "id": "SUNJDQGfz8UX"
      },
      "execution_count": null,
      "outputs": []
    },
    {
      "cell_type": "code",
      "source": [
        "A =np.random.randint(0,10,(3,4,3,4))\n",
        "\n",
        "sum=A.sum(axis=(-2,-1))\n",
        "\n",
        "print(sum)\n",
        " # solution by flattening the last two dimensions into one # (useful for functions that don't accept tuples for axis argument)\n",
        "sum=A.reshape(A.shape[:-2] +(-1,)).sum(axis=-1)\n",
        "\n",
        "print(sum)"
      ],
      "metadata": {
        "id": "KkOUsqoj416d",
        "outputId": "227763f7-a2da-48fd-a2d5-083649bdd1a3",
        "colab": {
          "base_uri": "https://localhost:8080/"
        }
      },
      "execution_count": null,
      "outputs": [
        {
          "output_type": "stream",
          "name": "stdout",
          "text": [
            "[[55 66 46 68]\n",
            " [58 53 41 52]\n",
            " [56 39 82 41]]\n",
            "[[55 66 46 68]\n",
            " [58 53 41 52]\n",
            " [56 39 82 41]]\n"
          ]
        }
      ]
    },
    {
      "cell_type": "code",
      "source": [
        "68. Considering a one-dimensional vector D, how to compute means of subsets of D using a vector S of same size describing subset indices? (★★★)\n"
      ],
      "metadata": {
        "id": "pa64VPMh5R1Q"
      },
      "execution_count": null,
      "outputs": []
    },
    {
      "cell_type": "code",
      "source": [
        "D =np.random.uniform(0,1,100)\n",
        "S =np.random.randint(0,10,100)\n",
        "D_sums =np.bincount(S, weights=D)\n",
        "D_counts =np.bincount(S)\n",
        "D_means =D_sums /D_counts\n",
        "\n",
        "print(D_means)"
      ],
      "metadata": {
        "id": "m_UnhddK5TGa",
        "outputId": "397df73c-31b4-41cf-b1de-c05953a4d6c9",
        "colab": {
          "base_uri": "https://localhost:8080/"
        }
      },
      "execution_count": null,
      "outputs": [
        {
          "output_type": "stream",
          "name": "stdout",
          "text": [
            "[0.54491651 0.42414655 0.57017347 0.35133491 0.52581548 0.49334534\n",
            " 0.70137336 0.43790575 0.51970812 0.46730656]\n"
          ]
        }
      ]
    },
    {
      "cell_type": "code",
      "source": [
        "69. How to get the diagonal of a dot product? (★★★)\n"
      ],
      "metadata": {
        "id": "tfW_5Sln58pH"
      },
      "execution_count": null,
      "outputs": []
    },
    {
      "cell_type": "code",
      "source": [
        "A =np.random.uniform(0,1,(5,5))\n",
        "B =np.random.uniform(0,1,(5,5))\n",
        "\n",
        "np.diag(np.dot(A, B))"
      ],
      "metadata": {
        "id": "DNkgqiEZ590o",
        "outputId": "2193be00-268b-437e-ff8e-cf6e9e962722",
        "colab": {
          "base_uri": "https://localhost:8080/"
        }
      },
      "execution_count": null,
      "outputs": [
        {
          "output_type": "execute_result",
          "data": {
            "text/plain": [
              "array([1.25420507, 1.19330728, 0.83908756, 1.10161303, 1.07759659])"
            ]
          },
          "metadata": {},
          "execution_count": 20
        }
      ]
    },
    {
      "cell_type": "code",
      "source": [
        "70. Consider the vector [1, 2, 3, 4, 5], how to build a new vector with 3 consecutive zeros interleaved between each value? (★★★)\n"
      ],
      "metadata": {
        "id": "asHNNz2O8t8N"
      },
      "execution_count": null,
      "outputs": []
    },
    {
      "cell_type": "code",
      "source": [
        "nums = np.array([1, 2, 3, 4, 5])\n",
        "\n",
        "p = 2\n",
        "\n",
        "# Creating a new array 'new_nums' of length len(nums) + (len(nums) - 1) * p filled with zeros\n",
        "new_nums = np.zeros(len(nums) + (len(nums) - 1) * (p))\n",
        "\n",
        "# Filling the 'new_nums' array with elements from 'nums' at intervals of (p + 1)\n",
        "new_nums[::p + 1] = nums\n",
        "\n",
        "# Displaying the new array 'new_nums'\n",
        "print(new_nums)"
      ],
      "metadata": {
        "id": "UsWZqvH59BX7",
        "outputId": "04edde16-a910-4c40-c45d-5a8a90e3980d",
        "colab": {
          "base_uri": "https://localhost:8080/"
        }
      },
      "execution_count": null,
      "outputs": [
        {
          "output_type": "stream",
          "name": "stdout",
          "text": [
            "[1. 0. 0. 2. 0. 0. 3. 0. 0. 4. 0. 0. 5.]\n"
          ]
        }
      ]
    },
    {
      "cell_type": "code",
      "source": [
        "71. Consider an array of dimension (5,5,3), how to mulitply it by an array with dimensions (5,5)? (★★★)\n"
      ],
      "metadata": {
        "id": "OQFmOc0O9hrp"
      },
      "execution_count": null,
      "outputs": []
    },
    {
      "cell_type": "code",
      "source": [
        "# Creating a NumPy array 'nums1' consisting of ones with shape (5, 5, 3)\n",
        "nums1 = np.ones((5, 5, 3))\n",
        "\n",
        "# Creating another NumPy array 'nums2' consisting of threes with shape (5, 5)\n",
        "nums2 = 3 * np.ones((5, 5))\n",
        "\n",
        "# Displaying the original array 'nums1'\n",
        "print(\"Original array:\")\n",
        "print(nums1)\n",
        "\n",
        "# Performing element-wise multiplication of 'nums1' and 'nums2' along the second axis using None to add a new axis\n",
        "new_array = nums1 * nums2[:, :, None]\n",
        "\n",
        "# Displaying the new array obtained after the multiplication\n",
        "print(\"\\nNew array:\")\n",
        "print(new_array)"
      ],
      "metadata": {
        "id": "0kcHMLnK9i-I",
        "outputId": "2a95f41d-0c8d-413c-fefc-5d90ca59f976",
        "colab": {
          "base_uri": "https://localhost:8080/"
        }
      },
      "execution_count": null,
      "outputs": [
        {
          "output_type": "stream",
          "name": "stdout",
          "text": [
            "Original array:\n",
            "[[[1. 1. 1.]\n",
            "  [1. 1. 1.]\n",
            "  [1. 1. 1.]\n",
            "  [1. 1. 1.]\n",
            "  [1. 1. 1.]]\n",
            "\n",
            " [[1. 1. 1.]\n",
            "  [1. 1. 1.]\n",
            "  [1. 1. 1.]\n",
            "  [1. 1. 1.]\n",
            "  [1. 1. 1.]]\n",
            "\n",
            " [[1. 1. 1.]\n",
            "  [1. 1. 1.]\n",
            "  [1. 1. 1.]\n",
            "  [1. 1. 1.]\n",
            "  [1. 1. 1.]]\n",
            "\n",
            " [[1. 1. 1.]\n",
            "  [1. 1. 1.]\n",
            "  [1. 1. 1.]\n",
            "  [1. 1. 1.]\n",
            "  [1. 1. 1.]]\n",
            "\n",
            " [[1. 1. 1.]\n",
            "  [1. 1. 1.]\n",
            "  [1. 1. 1.]\n",
            "  [1. 1. 1.]\n",
            "  [1. 1. 1.]]]\n",
            "\n",
            "New array:\n",
            "[[[3. 3. 3.]\n",
            "  [3. 3. 3.]\n",
            "  [3. 3. 3.]\n",
            "  [3. 3. 3.]\n",
            "  [3. 3. 3.]]\n",
            "\n",
            " [[3. 3. 3.]\n",
            "  [3. 3. 3.]\n",
            "  [3. 3. 3.]\n",
            "  [3. 3. 3.]\n",
            "  [3. 3. 3.]]\n",
            "\n",
            " [[3. 3. 3.]\n",
            "  [3. 3. 3.]\n",
            "  [3. 3. 3.]\n",
            "  [3. 3. 3.]\n",
            "  [3. 3. 3.]]\n",
            "\n",
            " [[3. 3. 3.]\n",
            "  [3. 3. 3.]\n",
            "  [3. 3. 3.]\n",
            "  [3. 3. 3.]\n",
            "  [3. 3. 3.]]\n",
            "\n",
            " [[3. 3. 3.]\n",
            "  [3. 3. 3.]\n",
            "  [3. 3. 3.]\n",
            "  [3. 3. 3.]\n",
            "  [3. 3. 3.]]]\n"
          ]
        }
      ]
    },
    {
      "cell_type": "code",
      "source": [
        "72. How to swap two rows of an array? (★★★)\n"
      ],
      "metadata": {
        "id": "8uE8BOWQAmpq"
      },
      "execution_count": null,
      "outputs": []
    },
    {
      "cell_type": "code",
      "source": [
        "num_arr = np.array([[1,3,1], [3,1,3], [2,9,2], [9,2,9]])\n",
        "\n",
        "# Displaying the original array\n",
        "print(\"Original array:\")\n",
        "print(num_arr)\n",
        "\n",
        "# Using np.roll() method for swapping array along row\n",
        "num_arr = np.roll(num_arr,2,axis=0)\n",
        "\n",
        "print(\"\\nArray after swapping the rows:\")\n",
        "print(num_arr)"
      ],
      "metadata": {
        "id": "UbKB6DS0Anlr",
        "outputId": "9f6db258-54ef-437d-bcec-571fe138d4ac",
        "colab": {
          "base_uri": "https://localhost:8080/"
        }
      },
      "execution_count": null,
      "outputs": [
        {
          "output_type": "stream",
          "name": "stdout",
          "text": [
            "Original array:\n",
            "[[1 3 1]\n",
            " [3 1 3]\n",
            " [2 9 2]\n",
            " [9 2 9]]\n",
            "\n",
            "Array after swapping the rows:\n",
            "[[2 9 2]\n",
            " [9 2 9]\n",
            " [1 3 1]\n",
            " [3 1 3]]\n"
          ]
        }
      ]
    },
    {
      "cell_type": "code",
      "source": [
        "73. Consider a set of 10 triplets describing 10 triangles (with shared vertices), find the set of unique line segments composing all the triangles (★★★)\n"
      ],
      "metadata": {
        "id": "paYx8fg0BRqI"
      },
      "execution_count": null,
      "outputs": []
    },
    {
      "cell_type": "code",
      "source": [
        "triplets = [\n",
        "    [(1, 2), (3, 4), (5, 6)],\n",
        "    [(3, 4), (7, 8), (9, 10)],\n",
        "    # Add the remaining triplets here...\n",
        "]\n",
        "\n",
        "# Set to store unique line segments\n",
        "unique_segments = set()\n",
        "\n",
        "# Iterate over each triplet\n",
        "for triplet in triplets:\n",
        "    # Extract vertices of the triangle\n",
        "    vertex1, vertex2, vertex3 = triplet\n",
        "\n",
        "    # Define line segments\n",
        "    segments = [\n",
        "        (vertex1, vertex2),\n",
        "        (vertex2, vertex3),\n",
        "        (vertex3, vertex1)\n",
        "    ]\n",
        "\n",
        "    # Add line segments to the set\n",
        "    for segment in segments:\n",
        "        unique_segments.add(segment)\n",
        "\n",
        "# Print the set of unique line segments\n",
        "print(\"Unique Line Segments:\")\n",
        "for segment in unique_segments:\n",
        "    print(segment)"
      ],
      "metadata": {
        "id": "94qfcPpfG802",
        "outputId": "dd0010e9-00b5-4d2d-b261-5baa38d88f44",
        "colab": {
          "base_uri": "https://localhost:8080/"
        }
      },
      "execution_count": null,
      "outputs": [
        {
          "output_type": "stream",
          "name": "stdout",
          "text": [
            "Unique Line Segments:\n",
            "((9, 10), (3, 4))\n",
            "((3, 4), (7, 8))\n",
            "((5, 6), (1, 2))\n",
            "((1, 2), (3, 4))\n",
            "((3, 4), (5, 6))\n",
            "((7, 8), (9, 10))\n"
          ]
        }
      ]
    },
    {
      "cell_type": "code",
      "source": [
        "74. Given a sorted array C that corresponds to a bincount, how to produce an array A such that np.bincount(A) == C? (★★★)\n"
      ],
      "metadata": {
        "id": "1xMh-Oy-BS4x"
      },
      "execution_count": null,
      "outputs": []
    },
    {
      "cell_type": "code",
      "source": [
        "def reconstruct_array_from_bincount(C):\n",
        "    A = []\n",
        "    for i, count in enumerate(C):\n",
        "        A.extend([i] * count)\n",
        "    return np.array(A)\n",
        "\n",
        "# Example usage:\n",
        "C = np.array([0, 1, 2, 1, 0, 0, 3])  # Example sorted bincount array\n",
        "A = reconstruct_array_from_bincount(C)\n",
        "print(\"Reconstructed array A:\", A)\n",
        "print(\"Bincount of reconstructed array A:\", np.bincount(A))\n",
        "print(\"Is np.bincount(A) equal to C?\", np.array_equal(np.bincount(A), C))"
      ],
      "metadata": {
        "id": "UhZl4RgyHS6p",
        "outputId": "d3055733-4404-421d-ac7a-67f3850effa0",
        "colab": {
          "base_uri": "https://localhost:8080/"
        }
      },
      "execution_count": null,
      "outputs": [
        {
          "output_type": "stream",
          "name": "stdout",
          "text": [
            "Reconstructed array A: [1 2 2 3 6 6 6]\n",
            "Bincount of reconstructed array A: [0 1 2 1 0 0 3]\n",
            "Is np.bincount(A) equal to C? True\n"
          ]
        }
      ]
    },
    {
      "cell_type": "code",
      "source": [
        "75. How to compute averages using a sliding window over an array? (★★★)"
      ],
      "metadata": {
        "id": "TIsR2_pqNI5p"
      },
      "execution_count": null,
      "outputs": []
    },
    {
      "source": [
        "def sliding_window_average(arr, window_size):\n",
        "  \"\"\"\n",
        "  Calculates the average of a given array using a sliding window of the specified size.\n",
        "\n",
        "  Args:\n",
        "      arr (list): The input array.\n",
        "      window_size (int): The size of the sliding window.\n",
        "\n",
        "  Returns:\n",
        "      list: A list of averages calculated using the sliding window.\n",
        "  \"\"\"\n",
        "\n",
        "  result = []\n",
        "  for i in range(len(arr) - window_size + 1):\n",
        "    window = arr[i:i+window_size]\n",
        "    average = np.mean(window)\n",
        "    result.append(average)\n",
        "\n",
        "  return result\n",
        "\n",
        "arr = [1, 2, 3, 4, 5, 6, 7, 8, 9, 10]\n",
        "window_size = 3\n",
        "result = sliding_window_average(arr, window_size)\n",
        "print(\"Averages using a sliding window of size\", window_size, \":\", result)"
      ],
      "cell_type": "code",
      "metadata": {
        "id": "jjIw1CvxNduq",
        "outputId": "bb7a3785-c00f-48b4-dd01-52ee00c96084",
        "colab": {
          "base_uri": "https://localhost:8080/"
        }
      },
      "execution_count": 5,
      "outputs": [
        {
          "output_type": "stream",
          "name": "stdout",
          "text": [
            "Averages using a sliding window of size 3 : [2.0, 3.0, 4.0, 5.0, 6.0, 7.0, 8.0, 9.0]\n"
          ]
        }
      ]
    },
    {
      "cell_type": "code",
      "source": [
        "76. Consider a one-dimensional array Z, build a two-dimensional array whose first row is (Z[0],Z[1],Z[2]) and each subsequent row is shifted by 1 (last row should be (Z[-3],Z[-2],Z[-1]) (★★★)"
      ],
      "metadata": {
        "id": "0D0AF82EN3N3"
      },
      "execution_count": null,
      "outputs": []
    },
    {
      "cell_type": "code",
      "source": [],
      "metadata": {
        "id": "aO_DznZLN5Sl"
      },
      "execution_count": null,
      "outputs": []
    },
    {
      "cell_type": "code",
      "source": [
        "\n",
        "\n",
        "\n",
        "\n",
        "77. How to negate a boolean, or to change the sign of a float inplace? (★★★)\n",
        "\n",
        "78. Consider 2 sets of points P0,P1 describing lines (2d) and a point p, how to compute distance from p to each line i (P0[i],P1[i])? (★★★)\n",
        "\n",
        "79. Consider 2 sets of points P0,P1 describing lines (2d) and a set of points P, how to compute distance from each point j (P[j]) to each line i (P0[i],P1[i])? (★★★)\n",
        "\n",
        "80. Consider an arbitrary array, write a function that extract a subpart with a fixed shape and centered on a given element (pad with a fill value when necessary) (★★★)\n",
        "\n",
        "81. Consider an array Z = [1,2,3,4,5,6,7,8,9,10,11,12,13,14], how to generate an array R = [[1,2,3,4], [2,3,4,5], [3,4,5,6], ..., [11,12,13,14]]? (★★★)\n",
        "\n",
        "82. Compute a matrix rank (★★★)\n",
        "\n",
        "83. How to find the most frequent value in an array?\n",
        "\n",
        "84. Extract all the contiguous 3x3 blocks from a random 10x10 matrix (★★★)\n",
        "\n",
        "85. Create a 2D array subclass such that Z[i,j] == Z[j,i] (★★★)\n",
        "\n",
        "86. Consider a set of p matrices wich shape (n,n) and a set of p vectors with shape (n,1). How to compute the sum of of the p matrix products at once? (result has shape (n,1)) (★★★)\n",
        "\n",
        "87. Consider a 16x16 array, how to get the block-sum (block size is 4x4)? (★★★)\n",
        "\n",
        "88. How to implement the Game of Life using numpy arrays? (★★★)\n",
        "\n",
        "89. How to get the n largest values of an array (★★★)\n",
        "\n",
        "90. Given an arbitrary number of vectors, build the cartesian product (every combinations of every item) (★★★)\n",
        "\n",
        "91. How to create a record array from a regular array? (★★★)\n",
        "\n",
        "92. Consider a large vector Z, compute Z to the power of 3 using 3 different methods (★★★)\n",
        "\n",
        "93. Consider two arrays A and B of shape (8,3) and (2,2). How to find rows of A that contain elements of each row of B regardless of the order of the elements in B? (★★★)\n",
        "\n",
        "94. Considering a 10x3 matrix, extract rows with unequal values (e.g. [2,2,3]) (★★★)\n",
        "\n",
        "95. Convert a vector of ints into a matrix binary representation (★★★)\n",
        "\n",
        "96. Given a two dimensional array, how to extract unique rows? (★★★)\n",
        "\n",
        "97. Considering 2 vectors A & B, write the einsum equivalent of inner, outer, sum, and mul function (★★★)\n",
        "\n",
        "98. Considering a path described by two vectors (X,Y), how to sample it using equidistant samples (★★★)?\n",
        "\n",
        "99. Given an integer n and a 2D array X, select from X the rows which can be interpreted as draws from a multinomial distribution with n degrees, i.e., the rows which only contain integers and which sum to n. (★★★)\n",
        "\n",
        "100. Compute bootstrapped 95% confidence intervals for the mean of a 1D array X (i.e., resample the elements of an array with replacement N times, compute the mean of each sample, and then compute percentiles over the means). (★★★)\n",
        "\n"
      ],
      "metadata": {
        "id": "a3-yb2_guhEY"
      },
      "execution_count": null,
      "outputs": []
    }
  ]
}