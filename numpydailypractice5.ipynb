{
  "nbformat": 4,
  "nbformat_minor": 0,
  "metadata": {
    "colab": {
      "provenance": [],
      "authorship_tag": "ABX9TyOlKg44ZrkCXxzxKQR6USMh",
      "include_colab_link": true
    },
    "kernelspec": {
      "name": "python3",
      "display_name": "Python 3"
    },
    "language_info": {
      "name": "python"
    }
  },
  "cells": [
    {
      "cell_type": "markdown",
      "metadata": {
        "id": "view-in-github",
        "colab_type": "text"
      },
      "source": [
        "<a href=\"https://colab.research.google.com/github/puritym8/Python-Data-Analysis/blob/main/numpydailypractice5.ipynb\" target=\"_parent\"><img src=\"https://colab.research.google.com/assets/colab-badge.svg\" alt=\"Open In Colab\"/></a>"
      ]
    },
    {
      "cell_type": "code",
      "execution_count": 1,
      "metadata": {
        "id": "8y12xfoHuYN6"
      },
      "outputs": [],
      "source": [
        "import numpy as np"
      ]
    },
    {
      "cell_type": "code",
      "source": [
        "61. Find the nearest value from a given value in an array (★★☆)\n"
      ],
      "metadata": {
        "id": "q6e4xQl0utYy"
      },
      "execution_count": null,
      "outputs": []
    },
    {
      "cell_type": "code",
      "source": [
        "arr = np.random.uniform(1, 12, 5)\n",
        "\n",
        "# Setting a value 'v' to find the number closest to it in the array\n",
        "v = 4\n",
        "\n",
        "# Finding the value 'n' in 'arr' that is closest to 'v'\n",
        "# Using np.abs(arr - v).argmin() to get the index of the element in 'arr' closest to 'v'\n",
        "# Accessing the element using arr.flat[index] to get the closest value 'n'\n",
        "n = arr.flat[np.abs(arr - v).argmin()]\n",
        "\n",
        "# Printing the value 'n' that is closest to 'v'\n",
        "print(n)"
      ],
      "metadata": {
        "colab": {
          "base_uri": "https://localhost:8080/"
        },
        "id": "peA-8YzvuulP",
        "outputId": "08a5db9f-7de1-420b-b8df-151e0fe6a98f"
      },
      "execution_count": 2,
      "outputs": [
        {
          "output_type": "stream",
          "name": "stdout",
          "text": [
            "4.9475644923531465\n"
          ]
        }
      ]
    },
    {
      "cell_type": "code",
      "source": [
        "62. Considering two arrays with shape (1,3) and (3,1), how to compute their sum using an iterator? (★★☆)\n"
      ],
      "metadata": {
        "id": "t2ve5GsYvPZO"
      },
      "execution_count": null,
      "outputs": []
    },
    {
      "cell_type": "code",
      "source": [
        "a = np.array([1, 2, 3])\n",
        "b = np.array([0, 1, 2])\n",
        "\n",
        "c = a.reshape(3, 1) @ b.reshape(1, 3)\n",
        "print(c)"
      ],
      "metadata": {
        "colab": {
          "base_uri": "https://localhost:8080/"
        },
        "id": "1m7ZiQgqvQdI",
        "outputId": "ac81e111-1d91-4435-cfc4-05664d65489f"
      },
      "execution_count": 3,
      "outputs": [
        {
          "output_type": "stream",
          "name": "stdout",
          "text": [
            "[[0 1 2]\n",
            " [0 2 4]\n",
            " [0 3 6]]\n"
          ]
        }
      ]
    },
    {
      "cell_type": "code",
      "source": [
        "63. Create an array class that has a name attribute (★★☆)*******\n"
      ],
      "metadata": {
        "id": "gKCt76jZzgnv"
      },
      "execution_count": null,
      "outputs": []
    },
    {
      "source": [
        "class NamedArray(np.ndarray):\n",
        "  def __new__(cls, array, name=\"no name\"):\n",
        "    obj = np.asarray(array).view(cls)\n",
        "    obj.name = name\n",
        "    return obj\n",
        "\n",
        "  def __array_finalize__(self, obj):\n",
        "    if obj is None:\n",
        "      return\n",
        "    self.info = getattr(obj, 'name', \"no name\")\n",
        "\n",
        "Z = NamedArray(np.arange(10), \"range_10\")\n",
        "print(Z.name)"
      ],
      "cell_type": "code",
      "metadata": {
        "colab": {
          "base_uri": "https://localhost:8080/"
        },
        "id": "0d96-ClZ1jwR",
        "outputId": "043dd4ab-d2d6-4e6a-8f28-4596efd47580"
      },
      "execution_count": 9,
      "outputs": [
        {
          "output_type": "stream",
          "name": "stdout",
          "text": [
            "range_10\n"
          ]
        }
      ]
    },
    {
      "cell_type": "code",
      "source": [
        "64. Consider a given vector, how to add 1 to each element indexed by a second vector (be careful with repeated indices)? (★★★)\n"
      ],
      "metadata": {
        "id": "qUOSXsxEz92T"
      },
      "execution_count": null,
      "outputs": []
    },
    {
      "cell_type": "code",
      "source": [
        "given_vector = np.array([1, 2, 3, 4, 5])\n",
        "\n",
        "# Second vector containing indices\n",
        "indices_vector = np.array([1, 3, 3, 4, 0])\n",
        "\n",
        "# Create an array to store the result\n",
        "result = np.zeros_like(given_vector)\n",
        "\n",
        "# Loop through the indices and add 1 to corresponding elements in the result array\n",
        "unique_indices, counts = np.unique(indices_vector, return_counts=True)\n",
        "result[unique_indices] += counts\n",
        "\n",
        "print(\"Original vector:\", given_vector)\n",
        "print(\"Indices vector:\", indices_vector)\n",
        "print(\"Result after adding 1 to elements indexed by second vector:\", result)"
      ],
      "metadata": {
        "colab": {
          "base_uri": "https://localhost:8080/"
        },
        "id": "68qaN0Mc27E5",
        "outputId": "49705682-89b4-459b-d3bf-588087793e2e"
      },
      "execution_count": 10,
      "outputs": [
        {
          "output_type": "stream",
          "name": "stdout",
          "text": [
            "Original vector: [1 2 3 4 5]\n",
            "Indices vector: [1 3 3 4 0]\n",
            "Result after adding 1 to elements indexed by second vector: [1 1 0 2 1]\n"
          ]
        }
      ]
    },
    {
      "cell_type": "code",
      "source": [
        "65. How to accumulate elements of a vector (X) to an array (F) based on an index list (I)? (★★★)\n"
      ],
      "metadata": {
        "id": "irK6dkbm3MDI"
      },
      "execution_count": null,
      "outputs": []
    },
    {
      "cell_type": "code",
      "source": [
        "X =[1,2,3,4,5,6]\n",
        "I =[1,3,9,3,4,1]\n",
        "\n",
        "F =np.bincount(I,X)\n",
        "\n",
        "print(F)"
      ],
      "metadata": {
        "colab": {
          "base_uri": "https://localhost:8080/"
        },
        "id": "WSixIFhU3PIt",
        "outputId": "d4e0ce36-e9f3-4e44-9f1b-4458f2cbac4c"
      },
      "execution_count": 11,
      "outputs": [
        {
          "output_type": "stream",
          "name": "stdout",
          "text": [
            "[0. 7. 0. 6. 5. 0. 0. 0. 0. 3.]\n"
          ]
        }
      ]
    },
    {
      "cell_type": "code",
      "source": [
        "66. Considering a (w,h,3) image of (dtype=ubyte), compute the number of unique colors (★★☆)\n"
      ],
      "metadata": {
        "id": "v3yhGJp14KzL"
      },
      "execution_count": null,
      "outputs": []
    },
    {
      "cell_type": "code",
      "source": [],
      "metadata": {
        "id": "_WWtkYmu4L62"
      },
      "execution_count": null,
      "outputs": []
    },
    {
      "cell_type": "code",
      "source": [
        "\n",
        "\n",
        "\n",
        "\n",
        "67. Considering a four dimensions array, how to get sum over the last two axis at once? (★★★)\n",
        "\n",
        "68. Considering a one-dimensional vector D, how to compute means of subsets of D using a vector S of same size describing subset indices? (★★★)\n",
        "\n",
        "69. How to get the diagonal of a dot product? (★★★)\n",
        "\n",
        "70. Consider the vector [1, 2, 3, 4, 5], how to build a new vector with 3 consecutive zeros interleaved between each value? (★★★)\n",
        "\n",
        "71. Consider an array of dimension (5,5,3), how to mulitply it by an array with dimensions (5,5)? (★★★)\n",
        "\n",
        "72. How to swap two rows of an array? (★★★)\n",
        "\n",
        "73. Consider a set of 10 triplets describing 10 triangles (with shared vertices), find the set of unique line segments composing all the triangles (★★★)\n",
        "\n",
        "74. Given a sorted array C that corresponds to a bincount, how to produce an array A such that np.bincount(A) == C? (★★★)\n",
        "\n",
        "75. How to compute averages using a sliding window over an array? (★★★)\n",
        "\n",
        "76. Consider a one-dimensional array Z, build a two-dimensional array whose first row is (Z[0],Z[1],Z[2]) and each subsequent row is shifted by 1 (last row should be (Z[-3],Z[-2],Z[-1]) (★★★)\n",
        "\n",
        "77. How to negate a boolean, or to change the sign of a float inplace? (★★★)\n",
        "\n",
        "78. Consider 2 sets of points P0,P1 describing lines (2d) and a point p, how to compute distance from p to each line i (P0[i],P1[i])? (★★★)\n",
        "\n",
        "79. Consider 2 sets of points P0,P1 describing lines (2d) and a set of points P, how to compute distance from each point j (P[j]) to each line i (P0[i],P1[i])? (★★★)\n",
        "\n",
        "80. Consider an arbitrary array, write a function that extract a subpart with a fixed shape and centered on a given element (pad with a fill value when necessary) (★★★)\n",
        "\n",
        "81. Consider an array Z = [1,2,3,4,5,6,7,8,9,10,11,12,13,14], how to generate an array R = [[1,2,3,4], [2,3,4,5], [3,4,5,6], ..., [11,12,13,14]]? (★★★)\n",
        "\n",
        "82. Compute a matrix rank (★★★)\n",
        "\n",
        "83. How to find the most frequent value in an array?\n",
        "\n",
        "84. Extract all the contiguous 3x3 blocks from a random 10x10 matrix (★★★)\n",
        "\n",
        "85. Create a 2D array subclass such that Z[i,j] == Z[j,i] (★★★)\n",
        "\n",
        "86. Consider a set of p matrices wich shape (n,n) and a set of p vectors with shape (n,1). How to compute the sum of of the p matrix products at once? (result has shape (n,1)) (★★★)\n",
        "\n",
        "87. Consider a 16x16 array, how to get the block-sum (block size is 4x4)? (★★★)\n",
        "\n",
        "88. How to implement the Game of Life using numpy arrays? (★★★)\n",
        "\n",
        "89. How to get the n largest values of an array (★★★)\n",
        "\n",
        "90. Given an arbitrary number of vectors, build the cartesian product (every combinations of every item) (★★★)\n",
        "\n",
        "91. How to create a record array from a regular array? (★★★)\n",
        "\n",
        "92. Consider a large vector Z, compute Z to the power of 3 using 3 different methods (★★★)\n",
        "\n",
        "93. Consider two arrays A and B of shape (8,3) and (2,2). How to find rows of A that contain elements of each row of B regardless of the order of the elements in B? (★★★)\n",
        "\n",
        "94. Considering a 10x3 matrix, extract rows with unequal values (e.g. [2,2,3]) (★★★)\n",
        "\n",
        "95. Convert a vector of ints into a matrix binary representation (★★★)\n",
        "\n",
        "96. Given a two dimensional array, how to extract unique rows? (★★★)\n",
        "\n",
        "97. Considering 2 vectors A & B, write the einsum equivalent of inner, outer, sum, and mul function (★★★)\n",
        "\n",
        "98. Considering a path described by two vectors (X,Y), how to sample it using equidistant samples (★★★)?\n",
        "\n",
        "99. Given an integer n and a 2D array X, select from X the rows which can be interpreted as draws from a multinomial distribution with n degrees, i.e., the rows which only contain integers and which sum to n. (★★★)\n",
        "\n",
        "100. Compute bootstrapped 95% confidence intervals for the mean of a 1D array X (i.e., resample the elements of an array with replacement N times, compute the mean of each sample, and then compute percentiles over the means). (★★★)\n",
        "\n",
        ""
      ],
      "metadata": {
        "id": "a3-yb2_guhEY"
      },
      "execution_count": null,
      "outputs": []
    }
  ]
}