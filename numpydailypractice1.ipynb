{
  "nbformat": 4,
  "nbformat_minor": 0,
  "metadata": {
    "colab": {
      "provenance": [],
      "authorship_tag": "ABX9TyOpKTUQVlmt8ucDr1VljHgd",
      "include_colab_link": true
    },
    "kernelspec": {
      "name": "python3",
      "display_name": "Python 3"
    },
    "language_info": {
      "name": "python"
    }
  },
  "cells": [
    {
      "cell_type": "markdown",
      "metadata": {
        "id": "view-in-github",
        "colab_type": "text"
      },
      "source": [
        "<a href=\"https://colab.research.google.com/github/puritym8/Python-Data-Analysis/blob/main/numpydailypractice1.ipynb\" target=\"_parent\"><img src=\"https://colab.research.google.com/assets/colab-badge.svg\" alt=\"Open In Colab\"/></a>"
      ]
    },
    {
      "cell_type": "code",
      "execution_count": null,
      "metadata": {
        "colab": {
          "base_uri": "https://localhost:8080/"
        },
        "id": "SCUFuvxxcWNP",
        "outputId": "75e7acde-e40a-49ed-894e-24b897aa9b52"
      },
      "outputs": [
        {
          "output_type": "stream",
          "name": "stdout",
          "text": [
            "[0. 0. 0. 0. 0. 0. 0. 0. 0. 0.]\n"
          ]
        }
      ],
      "source": [
        "# Numpy Exercise 1\n",
        "\n",
        "### All of the questions in this exercise are attributed to rougier/numpy-100\n",
        "\n",
        "#### 1. Import the numpy package under the name `np` (★☆☆)\n",
        "\n",
        "import numpy as np\n",
        "\n",
        "\n",
        "#### 3. Create a null vector of size 10 (★☆☆)\n",
        "def null_array(n):\n",
        "  x= np.zeros(n)\n",
        "  return (x)\n",
        "\n",
        "print(null_array(10))\n"
      ]
    },
    {
      "cell_type": "code",
      "source": [
        "#### 2. Print the numpy version and the configuration (★☆☆)\n",
        "\n",
        "import numpy as np\n",
        "\n",
        "print(np.__version__)"
      ],
      "metadata": {
        "colab": {
          "base_uri": "https://localhost:8080/"
        },
        "id": "R2BFCD62gt5Z",
        "outputId": "ffc0758a-9032-48e8-fbcd-19d1e7144655"
      },
      "execution_count": null,
      "outputs": [
        {
          "output_type": "stream",
          "name": "stdout",
          "text": [
            "1.25.2\n"
          ]
        }
      ]
    },
    {
      "cell_type": "code",
      "source": [
        "#### 4. How to find the memory size of any array (★☆☆)\n",
        "\n",
        "import numpy as np\n",
        "\n",
        "x = np.array([23,5,7])\n",
        "\n",
        "print(\"Size of the array: \",\n",
        "      x.size)\n",
        "\n",
        "print(\"Memory size of one array element in bytes: \",\n",
        "      x.itemsize)\n",
        "\n",
        "# memory size of numpy array in bytes\n",
        "print(\"Memory size of numpy array in bytes:\",\n",
        "      x.size * x.itemsize)\n",
        "\n"
      ],
      "metadata": {
        "colab": {
          "base_uri": "https://localhost:8080/"
        },
        "id": "nbKKa_GBfvwe",
        "outputId": "1dcbfdf0-2e70-478f-d9bd-dcc79fcf3846"
      },
      "execution_count": null,
      "outputs": [
        {
          "output_type": "stream",
          "name": "stdout",
          "text": [
            "Size of the array:  3\n",
            "Memory size of one array element in bytes:  8\n",
            "Memory size of numpy array in bytes: 24\n"
          ]
        }
      ]
    },
    {
      "cell_type": "code",
      "source": [
        "#### 5. How to get the documentation of the numpy add function from the command line? (★☆☆)\n",
        "\n",
        "import numpy as np\n",
        "\n",
        "print(np.info(np.add))\n",
        "\n"
      ],
      "metadata": {
        "colab": {
          "base_uri": "https://localhost:8080/"
        },
        "id": "wRoR2OdnfxCn",
        "outputId": "31411c91-cf14-4cf8-ac69-55459cfde88a"
      },
      "execution_count": null,
      "outputs": [
        {
          "output_type": "stream",
          "name": "stdout",
          "text": [
            "add(x1, x2, /, out=None, *, where=True, casting='same_kind', order='K', dtype=None, subok=True[, signature, extobj])\n",
            "\n",
            "Add arguments element-wise.\n",
            "\n",
            "Parameters\n",
            "----------\n",
            "x1, x2 : array_like\n",
            "    The arrays to be added.\n",
            "    If ``x1.shape != x2.shape``, they must be broadcastable to a common\n",
            "    shape (which becomes the shape of the output).\n",
            "out : ndarray, None, or tuple of ndarray and None, optional\n",
            "    A location into which the result is stored. If provided, it must have\n",
            "    a shape that the inputs broadcast to. If not provided or None,\n",
            "    a freshly-allocated array is returned. A tuple (possible only as a\n",
            "    keyword argument) must have length equal to the number of outputs.\n",
            "where : array_like, optional\n",
            "    This condition is broadcast over the input. At locations where the\n",
            "    condition is True, the `out` array will be set to the ufunc result.\n",
            "    Elsewhere, the `out` array will retain its original value.\n",
            "    Note that if an uninitialized `out` array is created via the default\n",
            "    ``out=None``, locations within it where the condition is False will\n",
            "    remain uninitialized.\n",
            "**kwargs\n",
            "    For other keyword-only arguments, see the\n",
            "    :ref:`ufunc docs <ufuncs.kwargs>`.\n",
            "\n",
            "Returns\n",
            "-------\n",
            "add : ndarray or scalar\n",
            "    The sum of `x1` and `x2`, element-wise.\n",
            "    This is a scalar if both `x1` and `x2` are scalars.\n",
            "\n",
            "Notes\n",
            "-----\n",
            "Equivalent to `x1` + `x2` in terms of array broadcasting.\n",
            "\n",
            "Examples\n",
            "--------\n",
            ">>> np.add(1.0, 4.0)\n",
            "5.0\n",
            ">>> x1 = np.arange(9.0).reshape((3, 3))\n",
            ">>> x2 = np.arange(3.0)\n",
            ">>> np.add(x1, x2)\n",
            "array([[  0.,   2.,   4.],\n",
            "       [  3.,   5.,   7.],\n",
            "       [  6.,   8.,  10.]])\n",
            "\n",
            "The ``+`` operator can be used as a shorthand for ``np.add`` on ndarrays.\n",
            "\n",
            ">>> x1 = np.arange(9.0).reshape((3, 3))\n",
            ">>> x2 = np.arange(3.0)\n",
            ">>> x1 + x2\n",
            "array([[ 0.,  2.,  4.],\n",
            "       [ 3.,  5.,  7.],\n",
            "       [ 6.,  8., 10.]])\n",
            "None\n"
          ]
        }
      ]
    },
    {
      "cell_type": "code",
      "source": [
        "#### 6. Create a null vector of size 10 but the fifth value which is 1 (★☆☆)\n",
        "\n",
        "x = np.zeros(10)\n",
        "x[4] = 1\n",
        "\n",
        "print (x)\n",
        "\n",
        "\n"
      ],
      "metadata": {
        "colab": {
          "base_uri": "https://localhost:8080/"
        },
        "id": "bkaP1J1bfyHl",
        "outputId": "3dcd7089-b1b4-42a5-a0a7-a62b1cf2485b"
      },
      "execution_count": null,
      "outputs": [
        {
          "output_type": "stream",
          "name": "stdout",
          "text": [
            "[0. 0. 0. 0. 1. 0. 0. 0. 0. 0.]\n"
          ]
        }
      ]
    },
    {
      "cell_type": "code",
      "source": [
        "#### 7. Create a vector with values ranging from 10 to 49 (★☆☆)\n",
        "\n",
        "import numpy as np\n",
        "v = np.arange(10, 49)\n",
        "\n",
        "print (v)\n"
      ],
      "metadata": {
        "id": "yehgZRpqfyWW"
      },
      "execution_count": null,
      "outputs": []
    },
    {
      "cell_type": "code",
      "source": [
        "\n",
        "#### 8. Reverse a vector (first element becomes last) (★☆☆)\n",
        "\n",
        "import numpy as np\n",
        "\n",
        "x = np.arange(1,100)\n",
        "\n",
        "print(\"Reverse x:\")\n",
        "\n",
        "x = x[::-1]\n",
        "print(x)\n"
      ],
      "metadata": {
        "colab": {
          "base_uri": "https://localhost:8080/"
        },
        "id": "70AP1yZCfyZZ",
        "outputId": "361a84aa-301e-4d67-835b-b9945daea797"
      },
      "execution_count": null,
      "outputs": [
        {
          "output_type": "stream",
          "name": "stdout",
          "text": [
            "Reverse x:\n",
            "[99 98 97 96 95 94 93 92 91 90 89 88 87 86 85 84 83 82 81 80 79 78 77 76\n",
            " 75 74 73 72 71 70 69 68 67 66 65 64 63 62 61 60 59 58 57 56 55 54 53 52\n",
            " 51 50 49 48 47 46 45 44 43 42 41 40 39 38 37 36 35 34 33 32 31 30 29 28\n",
            " 27 26 25 24 23 22 21 20 19 18 17 16 15 14 13 12 11 10  9  8  7  6  5  4\n",
            "  3  2  1]\n"
          ]
        }
      ]
    },
    {
      "cell_type": "code",
      "source": [
        "#### 9. Create a 3x3 matrix with values ranging from 0 to 8 (★☆☆)\n",
        "\n",
        "import numpy as np\n",
        "\n",
        "x = np.arange(2,11). reshape(3,3)\n",
        "\n",
        "print (x)\n",
        "\n"
      ],
      "metadata": {
        "id": "YH3t0S1ofycI",
        "outputId": "fa8280b4-db5d-4648-be85-bb19ffe4becb",
        "colab": {
          "base_uri": "https://localhost:8080/"
        }
      },
      "execution_count": 1,
      "outputs": [
        {
          "output_type": "stream",
          "name": "stdout",
          "text": [
            "[[ 2  3  4]\n",
            " [ 5  6  7]\n",
            " [ 8  9 10]]\n"
          ]
        }
      ]
    },
    {
      "cell_type": "code",
      "source": [
        "#### 10. Find indices of non-zero elements from [1,2,0,0,4,0] (★☆☆)"
      ],
      "metadata": {
        "id": "ysXF4wpdfyfA"
      },
      "execution_count": null,
      "outputs": []
    },
    {
      "cell_type": "code",
      "source": [
        "#### 11. Create a 3x3 identity matrix (★☆☆)\n",
        "\n",
        "import numpy as np\n",
        "\n",
        "array = np.identity(3)\n",
        "\n",
        "print(array)"
      ],
      "metadata": {
        "id": "6WPRjcsefyiD",
        "outputId": "b84a7c6f-c572-4495-b9cd-7734f4553904",
        "colab": {
          "base_uri": "https://localhost:8080/"
        }
      },
      "execution_count": 2,
      "outputs": [
        {
          "output_type": "stream",
          "name": "stdout",
          "text": [
            "[[1. 0. 0.]\n",
            " [0. 1. 0.]\n",
            " [0. 0. 1.]]\n"
          ]
        }
      ]
    },
    {
      "cell_type": "code",
      "source": [
        "#### 12. Create a 3x3x3 array with random values (★☆☆)\n",
        "\n",
        "import numpy as np\n",
        "\n",
        "x = np.random.random((3, 3, 3))\n",
        "\n",
        "print(x)\n"
      ],
      "metadata": {
        "id": "ABWtMiKtfyk-",
        "outputId": "be6548c9-7459-405c-d8b5-1565bbeba453",
        "colab": {
          "base_uri": "https://localhost:8080/"
        }
      },
      "execution_count": 3,
      "outputs": [
        {
          "output_type": "stream",
          "name": "stdout",
          "text": [
            "[[[0.94588085 0.70199676 0.12085183]\n",
            "  [0.86253228 0.28660358 0.5884375 ]\n",
            "  [0.19554478 0.41203264 0.36221675]]\n",
            "\n",
            " [[0.52039946 0.97563586 0.69549098]\n",
            "  [0.84858572 0.45291608 0.28778073]\n",
            "  [0.71521164 0.14782917 0.71363756]]\n",
            "\n",
            " [[0.86724258 0.65195466 0.70980763]\n",
            "  [0.02442412 0.80690965 0.23692582]\n",
            "  [0.73890188 0.60371698 0.09935046]]]\n"
          ]
        }
      ]
    },
    {
      "cell_type": "code",
      "source": [
        "#### 13. Create a 10x10 array with random values and find the minimum and maximum values (★☆☆)\n",
        "\n",
        "import numpy as np\n",
        "\n",
        "x = np.random.random((10,10,10))\n",
        "print (x)\n",
        "\n",
        "xmin, xmax = x.min(), x.max()\n",
        "\n",
        "print(\"Minimum and Maximum Values:\")\n",
        "print(xmin, xmax)\n"
      ],
      "metadata": {
        "id": "8Tkl_OBcgUwy"
      },
      "execution_count": null,
      "outputs": []
    },
    {
      "cell_type": "code",
      "source": [
        "#### 14. Create a random vector of size 30 and find the mean value (★☆☆)\n",
        "\n",
        "import numpy as np\n",
        "\n",
        "x = np.random.random(30)\n",
        "m = x.mean\n",
        "\n",
        "print (m)"
      ],
      "metadata": {
        "id": "zh7SznFggUkS",
        "outputId": "22fb03e8-e099-405b-b315-41909f07ec60",
        "colab": {
          "base_uri": "https://localhost:8080/"
        }
      },
      "execution_count": 6,
      "outputs": [
        {
          "output_type": "stream",
          "name": "stdout",
          "text": [
            "<built-in method mean of numpy.ndarray object at 0x7f7f60f5a6d0>\n"
          ]
        }
      ]
    },
    {
      "cell_type": "code",
      "source": [
        "#### 15. Create a 2d array with 1 on the border and 0 inside (★☆☆)"
      ],
      "metadata": {
        "id": "PyUwlxh9gUXg"
      },
      "execution_count": null,
      "outputs": []
    }
  ]
}